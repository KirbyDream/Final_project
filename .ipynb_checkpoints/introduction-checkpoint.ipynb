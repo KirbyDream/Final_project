{
 "cells": [
  {
   "cell_type": "code",
   "execution_count": 77,
   "id": "994f5ad6",
   "metadata": {},
   "outputs": [],
   "source": [
    "import pandas as pd\n",
    "import seaborn as sns\n",
    "import matplotlib.pyplot as plt\n",
    "from matplotlib import pyplot as plt\n",
    "%matplotlib inline\n",
    "%config Inlinebackend.figure_format = 'retina'\n",
    "\n",
    "import seaborn as sns\n",
    "sns.set_context('poster')\n",
    "sns.set(rc={'figure.figsize': (16., 9.)})\n",
    "sns.set_style('whitegrid')\n",
    "\n",
    "import pylab as p\n",
    "import numpy as np\n",
    "import pandas as pd"
   ]
  },
  {
   "cell_type": "code",
   "execution_count": 27,
   "id": "0835da94",
   "metadata": {},
   "outputs": [],
   "source": [
    "df = pd.read_csv('./Data/release_data.csv')\n",
    "\n"
   ]
  },
  {
   "cell_type": "code",
   "execution_count": 28,
   "id": "0ff66a03",
   "metadata": {},
   "outputs": [
    {
     "data": {
      "text/html": [
       "<div>\n",
       "<style scoped>\n",
       "    .dataframe tbody tr th:only-of-type {\n",
       "        vertical-align: middle;\n",
       "    }\n",
       "\n",
       "    .dataframe tbody tr th {\n",
       "        vertical-align: top;\n",
       "    }\n",
       "\n",
       "    .dataframe thead th {\n",
       "        text-align: right;\n",
       "    }\n",
       "</style>\n",
       "<table border=\"1\" class=\"dataframe\">\n",
       "  <thead>\n",
       "    <tr style=\"text-align: right;\">\n",
       "      <th></th>\n",
       "      <th>release_id</th>\n",
       "      <th>country</th>\n",
       "      <th>year</th>\n",
       "      <th>genre</th>\n",
       "      <th>format</th>\n",
       "    </tr>\n",
       "  </thead>\n",
       "  <tbody>\n",
       "    <tr>\n",
       "      <th>380932</th>\n",
       "      <td>396583</td>\n",
       "      <td>UK</td>\n",
       "      <td>1973.0</td>\n",
       "      <td>Pop</td>\n",
       "      <td>Vinyl</td>\n",
       "    </tr>\n",
       "  </tbody>\n",
       "</table>\n",
       "</div>"
      ],
      "text/plain": [
       "        release_id country    year genre format\n",
       "380932      396583      UK  1973.0   Pop  Vinyl"
      ]
     },
     "execution_count": 28,
     "metadata": {},
     "output_type": "execute_result"
    }
   ],
   "source": [
    "df.sample()"
   ]
  },
  {
   "cell_type": "code",
   "execution_count": 29,
   "id": "0450ceb5",
   "metadata": {},
   "outputs": [
    {
     "data": {
      "text/plain": [
       "release_id          0\n",
       "country        454549\n",
       "year          2164324\n",
       "genre               3\n",
       "format              0\n",
       "dtype: int64"
      ]
     },
     "execution_count": 29,
     "metadata": {},
     "output_type": "execute_result"
    }
   ],
   "source": [
    "df.isna().sum()"
   ]
  },
  {
   "cell_type": "code",
   "execution_count": 30,
   "id": "68f1f173",
   "metadata": {},
   "outputs": [
    {
     "name": "stdout",
     "output_type": "stream",
     "text": [
      "Index(['release_id', 'country', 'year', 'genre', 'format'], dtype='object')\n"
     ]
    }
   ],
   "source": [
    "print(df.columns)"
   ]
  },
  {
   "cell_type": "code",
   "execution_count": 34,
   "id": "154b7f00",
   "metadata": {},
   "outputs": [],
   "source": [
    "df.dropna(subset =[\"year\"] , inplace = True)"
   ]
  },
  {
   "cell_type": "code",
   "execution_count": null,
   "id": "8e705712",
   "metadata": {},
   "outputs": [],
   "source": [
    "#df[\"country\"].unique()"
   ]
  },
  {
   "cell_type": "code",
   "execution_count": 38,
   "id": "10e8f5be",
   "metadata": {},
   "outputs": [],
   "source": [
    "df.dropna(subset =[\"country\"] , inplace = True)"
   ]
  },
  {
   "cell_type": "code",
   "execution_count": 39,
   "id": "c49df245",
   "metadata": {},
   "outputs": [
    {
     "data": {
      "text/html": [
       "<div>\n",
       "<style scoped>\n",
       "    .dataframe tbody tr th:only-of-type {\n",
       "        vertical-align: middle;\n",
       "    }\n",
       "\n",
       "    .dataframe tbody tr th {\n",
       "        vertical-align: top;\n",
       "    }\n",
       "\n",
       "    .dataframe thead th {\n",
       "        text-align: right;\n",
       "    }\n",
       "</style>\n",
       "<table border=\"1\" class=\"dataframe\">\n",
       "  <thead>\n",
       "    <tr style=\"text-align: right;\">\n",
       "      <th></th>\n",
       "      <th>release_id</th>\n",
       "      <th>country</th>\n",
       "      <th>year</th>\n",
       "      <th>genre</th>\n",
       "      <th>format</th>\n",
       "    </tr>\n",
       "  </thead>\n",
       "  <tbody>\n",
       "    <tr>\n",
       "      <th>974778</th>\n",
       "      <td>1016982</td>\n",
       "      <td>Russia</td>\n",
       "      <td>1903.0</td>\n",
       "      <td>Classical</td>\n",
       "      <td>Shellac</td>\n",
       "    </tr>\n",
       "    <tr>\n",
       "      <th>978473</th>\n",
       "      <td>1020499</td>\n",
       "      <td>US</td>\n",
       "      <td>1897.0</td>\n",
       "      <td>Jazz</td>\n",
       "      <td>Shellac</td>\n",
       "    </tr>\n",
       "    <tr>\n",
       "      <th>1270400</th>\n",
       "      <td>1289378</td>\n",
       "      <td>France</td>\n",
       "      <td>1860.0</td>\n",
       "      <td>Children's</td>\n",
       "      <td>All Media</td>\n",
       "    </tr>\n",
       "    <tr>\n",
       "      <th>1290169</th>\n",
       "      <td>1307084</td>\n",
       "      <td>US</td>\n",
       "      <td>1904.0</td>\n",
       "      <td>Jazz</td>\n",
       "      <td>Cylinder</td>\n",
       "    </tr>\n",
       "    <tr>\n",
       "      <th>1290194</th>\n",
       "      <td>1307106</td>\n",
       "      <td>US</td>\n",
       "      <td>1899.0</td>\n",
       "      <td>Brass &amp; Military</td>\n",
       "      <td>Cylinder</td>\n",
       "    </tr>\n",
       "  </tbody>\n",
       "</table>\n",
       "</div>"
      ],
      "text/plain": [
       "         release_id country    year             genre     format\n",
       "974778      1016982  Russia  1903.0         Classical    Shellac\n",
       "978473      1020499      US  1897.0              Jazz    Shellac\n",
       "1270400     1289378  France  1860.0        Children's  All Media\n",
       "1290169     1307084      US  1904.0              Jazz   Cylinder\n",
       "1290194     1307106      US  1899.0  Brass & Military   Cylinder"
      ]
     },
     "execution_count": 39,
     "metadata": {},
     "output_type": "execute_result"
    }
   ],
   "source": [
    "df_year = df[(df[\"year\"] < 1910 )]\n",
    "df_year.head()"
   ]
  },
  {
   "cell_type": "code",
   "execution_count": 40,
   "id": "5eb3072e",
   "metadata": {},
   "outputs": [
    {
     "data": {
      "text/plain": [
       "release_id    0\n",
       "country       0\n",
       "year          0\n",
       "genre         0\n",
       "format        0\n",
       "dtype: int64"
      ]
     },
     "execution_count": 40,
     "metadata": {},
     "output_type": "execute_result"
    }
   ],
   "source": [
    "df_year.isna().sum()"
   ]
  },
  {
   "cell_type": "code",
   "execution_count": null,
   "id": "9045148d",
   "metadata": {},
   "outputs": [],
   "source": [
    "group = df.groupby(by = [\"year\"]), [\"format\"].count(\"format\")\n",
    "\n"
   ]
  },
  {
   "cell_type": "code",
   "execution_count": null,
   "id": "b82ac1c5",
   "metadata": {},
   "outputs": [],
   "source": [
    "df[\"format\"].unique()"
   ]
  },
  {
   "cell_type": "code",
   "execution_count": 48,
   "id": "0d524517",
   "metadata": {},
   "outputs": [],
   "source": [
    "types= ['All Media', 'File',\n",
    "       'Floppy Disk', 'DVD', 'Hybrid', 'VHS', 'DVDr',\n",
    "       '8-Track Cartridge', 'Reel-To-Reel',\n",
    "       'Memory Stick', 'Betamax', 'HD DVD','Cylinder',\n",
    "       '4-Track Cartridge', 'VHD', 'Blu-ray-R', 'U-matic',\n",
    "       'Film Reel', 'SelectaVision', 'MiniDV', 'Video8', 'Betacam SP',\n",
    "       'PlayTape', 'Video 2000', 'Wire Recording','Betacam', 'Tefifon',\n",
    "       'Pocket Rocker', 'Cartrivision', 'HD DVD-R','RCA Tape Cartridge','UMD','Box Set','CDV','Flexi-disc']"
   ]
  },
  {
   "cell_type": "code",
   "execution_count": null,
   "id": "e6008ba8",
   "metadata": {},
   "outputs": [],
   "source": []
  },
  {
   "cell_type": "code",
   "execution_count": 49,
   "id": "6f635726",
   "metadata": {},
   "outputs": [],
   "source": [
    "new_df = df[df[\"format\"].str.contains('|'.join(types)) == False]\n"
   ]
  },
  {
   "cell_type": "code",
   "execution_count": 50,
   "id": "9d1cb64c",
   "metadata": {},
   "outputs": [
    {
     "data": {
      "text/plain": [
       "array(['Vinyl', 'CD', 'Cassette', 'DAT', 'Minidisc', 'Lathe Cut',\n",
       "       'Acetate', 'SACD', 'Shellac', 'MVD', 'Laserdisc', 'DCC',\n",
       "       'Microcassette', 'Blu-ray', 'DualDisc', 'Edison Disc',\n",
       "       'Pathé Disc', 'Elcaset', 'NT Cassette', 'DC-International'],\n",
       "      dtype=object)"
      ]
     },
     "execution_count": 50,
     "metadata": {},
     "output_type": "execute_result"
    }
   ],
   "source": [
    "new_df[\"format\"].unique()"
   ]
  },
  {
   "cell_type": "code",
   "execution_count": 6,
   "id": "71ce0855",
   "metadata": {},
   "outputs": [],
   "source": [
    "#acetate = new_df.query('format == \"Acetate\"')\n"
   ]
  },
  {
   "cell_type": "code",
   "execution_count": 7,
   "id": "dcc570c8",
   "metadata": {},
   "outputs": [],
   "source": [
    "#acetate[(acetate[\"year\"] > 1930)]\n"
   ]
  },
  {
   "cell_type": "code",
   "execution_count": 51,
   "id": "bdde168d",
   "metadata": {},
   "outputs": [],
   "source": [
    "new_df = new_df.replace(to_replace=['Lathe Cut', 'Acetate','Edison Disc','Pathé Disc'],\n",
    "           value=\"Vinyl\")"
   ]
  },
  {
   "cell_type": "code",
   "execution_count": 52,
   "id": "6f053c13",
   "metadata": {},
   "outputs": [],
   "source": [
    "new_df = new_df.replace(to_replace=['Minidisc', 'MVD','Laserdisc','DCC','SACD', 'Blu-ray','DualDisc'],\n",
    "           value=\"CD\")"
   ]
  },
  {
   "cell_type": "code",
   "execution_count": 53,
   "id": "bb5dd328",
   "metadata": {},
   "outputs": [],
   "source": [
    "new_df = new_df.replace(to_replace=['DC-International', 'NT Cassette','Elcaset','Microcassette','DAT', 'Blu-ray','DualDisc'],\n",
    "           value='Cassette')"
   ]
  },
  {
   "cell_type": "code",
   "execution_count": 54,
   "id": "391d3ce9",
   "metadata": {},
   "outputs": [
    {
     "data": {
      "text/plain": [
       "array(['Vinyl', 'CD', 'Cassette', 'Shellac'], dtype=object)"
      ]
     },
     "execution_count": 54,
     "metadata": {},
     "output_type": "execute_result"
    }
   ],
   "source": [
    "new_df[\"format\"].unique()"
   ]
  },
  {
   "cell_type": "code",
   "execution_count": 65,
   "id": "eecb750d",
   "metadata": {},
   "outputs": [
    {
     "data": {
      "text/plain": [
       "array(['Electronic', 'Hip Hop', 'Non-Music', 'Jazz', 'Rock', 'Latin',\n",
       "       'Funk / Soul', 'Stage & Screen', 'Pop', 'Reggae',\n",
       "       'Folk, World, & Country', 'Classical', 'Blues', 'Brass & Military',\n",
       "       \"Children's\", nan], dtype=object)"
      ]
     },
     "execution_count": 65,
     "metadata": {},
     "output_type": "execute_result"
    }
   ],
   "source": [
    "new_df[\"genre\"].unique()"
   ]
  },
  {
   "cell_type": "code",
   "execution_count": 55,
   "id": "56e3a0b4",
   "metadata": {},
   "outputs": [
    {
     "data": {
      "text/plain": [
       "Vinyl       6440942\n",
       "CD          5363037\n",
       "Cassette    1070527\n",
       "Shellac      190533\n",
       "Name: format, dtype: int64"
      ]
     },
     "execution_count": 55,
     "metadata": {},
     "output_type": "execute_result"
    }
   ],
   "source": [
    "new_df[\"format\"].value_counts()"
   ]
  },
  {
   "cell_type": "code",
   "execution_count": 56,
   "id": "c078ba40",
   "metadata": {},
   "outputs": [
    {
     "data": {
      "text/plain": [
       "1889.0"
      ]
     },
     "execution_count": 56,
     "metadata": {},
     "output_type": "execute_result"
    }
   ],
   "source": [
    "new_df['year'].min()\n"
   ]
  },
  {
   "cell_type": "code",
   "execution_count": 58,
   "id": "daa69b00",
   "metadata": {},
   "outputs": [],
   "source": [
    "global_release = new_df[(new_df[\"year\"] > 1920 )]\n"
   ]
  },
  {
   "cell_type": "code",
   "execution_count": 62,
   "id": "7f563d8a",
   "metadata": {},
   "outputs": [],
   "source": [
    "global_release.to_csv(\"./Data/format_release.csv\", index = False)"
   ]
  },
  {
   "cell_type": "code",
   "execution_count": 99,
   "id": "ffaf6d8b",
   "metadata": {},
   "outputs": [
    {
     "name": "stderr",
     "output_type": "stream",
     "text": [
      "C:\\Users\\34603\\AppData\\Local\\Temp\\ipykernel_20176\\255950573.py:1: SettingWithCopyWarning: \n",
      "A value is trying to be set on a copy of a slice from a DataFrame.\n",
      "Try using .loc[row_indexer,col_indexer] = value instead\n",
      "\n",
      "See the caveats in the documentation: https://pandas.pydata.org/pandas-docs/stable/user_guide/indexing.html#returning-a-view-versus-a-copy\n",
      "  global_release.year = global_release.year.apply(lambda x: int(x))\n"
     ]
    }
   ],
   "source": [
    "global_release.year = global_release.year.apply(lambda x: int(x))"
   ]
  },
  {
   "cell_type": "code",
   "execution_count": 100,
   "id": "54a69414",
   "metadata": {},
   "outputs": [
    {
     "data": {
      "text/html": [
       "<div>\n",
       "<style scoped>\n",
       "    .dataframe tbody tr th:only-of-type {\n",
       "        vertical-align: middle;\n",
       "    }\n",
       "\n",
       "    .dataframe tbody tr th {\n",
       "        vertical-align: top;\n",
       "    }\n",
       "\n",
       "    .dataframe thead th {\n",
       "        text-align: right;\n",
       "    }\n",
       "</style>\n",
       "<table border=\"1\" class=\"dataframe\">\n",
       "  <thead>\n",
       "    <tr style=\"text-align: right;\">\n",
       "      <th></th>\n",
       "      <th>release_id</th>\n",
       "      <th>country</th>\n",
       "      <th>year</th>\n",
       "      <th>genre</th>\n",
       "      <th>format</th>\n",
       "    </tr>\n",
       "  </thead>\n",
       "  <tbody>\n",
       "    <tr>\n",
       "      <th>0</th>\n",
       "      <td>1</td>\n",
       "      <td>Sweden</td>\n",
       "      <td>1999</td>\n",
       "      <td>Electronic</td>\n",
       "      <td>Vinyl</td>\n",
       "    </tr>\n",
       "    <tr>\n",
       "      <th>1</th>\n",
       "      <td>2</td>\n",
       "      <td>Sweden</td>\n",
       "      <td>1998</td>\n",
       "      <td>Electronic</td>\n",
       "      <td>Vinyl</td>\n",
       "    </tr>\n",
       "    <tr>\n",
       "      <th>2</th>\n",
       "      <td>3</td>\n",
       "      <td>US</td>\n",
       "      <td>1999</td>\n",
       "      <td>Electronic</td>\n",
       "      <td>CD</td>\n",
       "    </tr>\n",
       "    <tr>\n",
       "      <th>3</th>\n",
       "      <td>4</td>\n",
       "      <td>US</td>\n",
       "      <td>1999</td>\n",
       "      <td>Electronic</td>\n",
       "      <td>CD</td>\n",
       "    </tr>\n",
       "    <tr>\n",
       "      <th>4</th>\n",
       "      <td>5</td>\n",
       "      <td>Germany</td>\n",
       "      <td>1995</td>\n",
       "      <td>Electronic</td>\n",
       "      <td>CD</td>\n",
       "    </tr>\n",
       "    <tr>\n",
       "      <th>...</th>\n",
       "      <td>...</td>\n",
       "      <td>...</td>\n",
       "      <td>...</td>\n",
       "      <td>...</td>\n",
       "      <td>...</td>\n",
       "    </tr>\n",
       "    <tr>\n",
       "      <th>17372030</th>\n",
       "      <td>15731745</td>\n",
       "      <td>Peru</td>\n",
       "      <td>1980</td>\n",
       "      <td>Pop</td>\n",
       "      <td>Vinyl</td>\n",
       "    </tr>\n",
       "    <tr>\n",
       "      <th>17372031</th>\n",
       "      <td>15731748</td>\n",
       "      <td>Mexico</td>\n",
       "      <td>1975</td>\n",
       "      <td>Latin</td>\n",
       "      <td>Vinyl</td>\n",
       "    </tr>\n",
       "    <tr>\n",
       "      <th>17372032</th>\n",
       "      <td>15731752</td>\n",
       "      <td>Czech Republic</td>\n",
       "      <td>2020</td>\n",
       "      <td>Electronic</td>\n",
       "      <td>Vinyl</td>\n",
       "    </tr>\n",
       "    <tr>\n",
       "      <th>17372033</th>\n",
       "      <td>15731758</td>\n",
       "      <td>Canada</td>\n",
       "      <td>2007</td>\n",
       "      <td>Electronic</td>\n",
       "      <td>Vinyl</td>\n",
       "    </tr>\n",
       "    <tr>\n",
       "      <th>17372034</th>\n",
       "      <td>15731760</td>\n",
       "      <td>Colombia</td>\n",
       "      <td>2006</td>\n",
       "      <td>Latin</td>\n",
       "      <td>CD</td>\n",
       "    </tr>\n",
       "  </tbody>\n",
       "</table>\n",
       "<p>13048620 rows × 5 columns</p>\n",
       "</div>"
      ],
      "text/plain": [
       "          release_id         country  year       genre format\n",
       "0                  1          Sweden  1999  Electronic  Vinyl\n",
       "1                  2          Sweden  1998  Electronic  Vinyl\n",
       "2                  3              US  1999  Electronic     CD\n",
       "3                  4              US  1999  Electronic     CD\n",
       "4                  5         Germany  1995  Electronic     CD\n",
       "...              ...             ...   ...         ...    ...\n",
       "17372030    15731745            Peru  1980         Pop  Vinyl\n",
       "17372031    15731748          Mexico  1975       Latin  Vinyl\n",
       "17372032    15731752  Czech Republic  2020  Electronic  Vinyl\n",
       "17372033    15731758          Canada  2007  Electronic  Vinyl\n",
       "17372034    15731760        Colombia  2006       Latin     CD\n",
       "\n",
       "[13048620 rows x 5 columns]"
      ]
     },
     "execution_count": 100,
     "metadata": {},
     "output_type": "execute_result"
    }
   ],
   "source": [
    "global_release"
   ]
  },
  {
   "cell_type": "code",
   "execution_count": 101,
   "id": "e3e68c47",
   "metadata": {},
   "outputs": [],
   "source": [
    "my_df = global_release"
   ]
  },
  {
   "cell_type": "code",
   "execution_count": 132,
   "id": "999926aa",
   "metadata": {},
   "outputs": [
    {
     "data": {
      "text/html": [
       "<div>\n",
       "<style scoped>\n",
       "    .dataframe tbody tr th:only-of-type {\n",
       "        vertical-align: middle;\n",
       "    }\n",
       "\n",
       "    .dataframe tbody tr th {\n",
       "        vertical-align: top;\n",
       "    }\n",
       "\n",
       "    .dataframe thead th {\n",
       "        text-align: right;\n",
       "    }\n",
       "</style>\n",
       "<table border=\"1\" class=\"dataframe\">\n",
       "  <thead>\n",
       "    <tr style=\"text-align: right;\">\n",
       "      <th></th>\n",
       "      <th>release_id</th>\n",
       "      <th>country</th>\n",
       "      <th>genre</th>\n",
       "      <th>format</th>\n",
       "    </tr>\n",
       "    <tr>\n",
       "      <th>year</th>\n",
       "      <th></th>\n",
       "      <th></th>\n",
       "      <th></th>\n",
       "      <th></th>\n",
       "    </tr>\n",
       "  </thead>\n",
       "  <tbody>\n",
       "    <tr>\n",
       "      <th>1921</th>\n",
       "      <td>2130</td>\n",
       "      <td>2130</td>\n",
       "      <td>2130</td>\n",
       "      <td>2130</td>\n",
       "    </tr>\n",
       "    <tr>\n",
       "      <th>1922</th>\n",
       "      <td>2380</td>\n",
       "      <td>2380</td>\n",
       "      <td>2380</td>\n",
       "      <td>2380</td>\n",
       "    </tr>\n",
       "    <tr>\n",
       "      <th>1923</th>\n",
       "      <td>2913</td>\n",
       "      <td>2913</td>\n",
       "      <td>2913</td>\n",
       "      <td>2913</td>\n",
       "    </tr>\n",
       "    <tr>\n",
       "      <th>1924</th>\n",
       "      <td>2973</td>\n",
       "      <td>2973</td>\n",
       "      <td>2973</td>\n",
       "      <td>2973</td>\n",
       "    </tr>\n",
       "    <tr>\n",
       "      <th>1925</th>\n",
       "      <td>3258</td>\n",
       "      <td>3258</td>\n",
       "      <td>3258</td>\n",
       "      <td>3258</td>\n",
       "    </tr>\n",
       "  </tbody>\n",
       "</table>\n",
       "</div>"
      ],
      "text/plain": [
       "      release_id  country  genre  format\n",
       "year                                    \n",
       "1921        2130     2130   2130    2130\n",
       "1922        2380     2380   2380    2380\n",
       "1923        2913     2913   2913    2913\n",
       "1924        2973     2973   2973    2973\n",
       "1925        3258     3258   3258    3258"
      ]
     },
     "execution_count": 132,
     "metadata": {},
     "output_type": "execute_result"
    }
   ],
   "source": [
    "global_release = my_df.groupby(['year']).count()\n",
    "global_release.head()"
   ]
  },
  {
   "cell_type": "code",
   "execution_count": 141,
   "id": "cb771d68",
   "metadata": {},
   "outputs": [
    {
     "data": {
      "image/png": "[encoded data removed]",
      "text/plain": [
       "<Figure size 1152x648 with 1 Axes>"
      ]
     },
     "metadata": {},
     "output_type": "display_data"
    }
   ],
   "source": [
    "sns.barplot(data=global_release, x=global_release.index, y=\"format\")\n",
    "plt.xticks(rotation=90);"
   ]
  },
  {
   "cell_type": "code",
   "execution_count": 105,
   "id": "5c279ba0",
   "metadata": {
    "scrolled": false
   },
   "outputs": [
    {
     "data": {
      "image/png": "[encoded data removed]",
      "text/plain": [
       "<Figure size 1152x648 with 1 Axes>"
      ]
     },
     "metadata": {},
     "output_type": "display_data"
    }
   ],
   "source": [
    "sns.barplot(data=global_release, x=\"year\", y=\"format\")\n",
    "plt.xticks(rotation=45);"
   ]
  },
  {
   "cell_type": "code",
   "execution_count": 104,
   "id": "231c0f1f",
   "metadata": {},
   "outputs": [],
   "source": [
    "#sns.lineplot(data=genre_df, x=\"genre\", y=\"year\", hue=\"format\")"
   ]
  },
  {
   "cell_type": "code",
   "execution_count": null,
   "id": "b2e550df",
   "metadata": {},
   "outputs": [],
   "source": []
  },
  {
   "cell_type": "code",
   "execution_count": null,
   "id": "a41c764e",
   "metadata": {},
   "outputs": [],
   "source": []
  },
  {
   "cell_type": "code",
   "execution_count": null,
   "id": "0b547067",
   "metadata": {},
   "outputs": [],
   "source": []
  }
 ],
 "metadata": {
  "kernelspec": {
   "display_name": "ironhack",
   "language": "python",
   "name": "ironhack"
  },
  "language_info": {
   "codemirror_mode": {
    "name": "ipython",
    "version": 3
   },
   "file_extension": ".py",
   "mimetype": "text/x-python",
   "name": "python",
   "nbconvert_exporter": "python",
   "pygments_lexer": "ipython3",
   "version": "3.9.12"
  }
 },
 "nbformat": 4,
 "nbformat_minor": 5
}
