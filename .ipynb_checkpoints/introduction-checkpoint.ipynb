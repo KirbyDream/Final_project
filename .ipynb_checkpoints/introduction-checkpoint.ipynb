{
 "cells": [
  {
   "cell_type": "code",
   "execution_count": 142,
   "id": "994f5ad6",
   "metadata": {},
   "outputs": [],
   "source": [
    "import pandas as pd\n",
    "import seaborn as sns\n",
    "import matplotlib.pyplot as plt\n",
    "from matplotlib import pyplot as plt\n",
    "%matplotlib inline\n",
    "%config Inlinebackend.figure_format = 'retina'\n",
    "\n",
    "import seaborn as sns\n",
    "sns.set_context('poster')\n",
    "sns.set(rc={'figure.figsize': (16., 9.)})\n",
    "sns.set_style('whitegrid')\n",
    "\n",
    "import pylab as p\n",
    "import numpy as np\n",
    "import pandas as pd"
   ]
  },
  {
   "cell_type": "code",
   "execution_count": 143,
   "id": "0835da94",
   "metadata": {},
   "outputs": [],
   "source": [
    "#loading first csv with global record relase data by country, year, genre and format\n",
    "\n",
    "df = pd.read_csv('./Data/release_data.csv')\n",
    "\n"
   ]
  },
  {
   "cell_type": "code",
   "execution_count": null,
   "id": "0ff66a03",
   "metadata": {},
   "outputs": [],
   "source": []
  },
  {
   "cell_type": "code",
   "execution_count": 213,
   "id": "0450ceb5",
   "metadata": {},
   "outputs": [
    {
     "data": {
      "text/plain": [
       "release_id    0\n",
       "country       0\n",
       "year          0\n",
       "genre         2\n",
       "format        0\n",
       "dtype: int64"
      ]
     },
     "execution_count": 213,
     "metadata": {},
     "output_type": "execute_result"
    }
   ],
   "source": [
    "\n",
    "df.isna().sum()"
   ]
  },
  {
   "cell_type": "code",
   "execution_count": 146,
   "id": "68f1f173",
   "metadata": {},
   "outputs": [
    {
     "name": "stdout",
     "output_type": "stream",
     "text": [
      "Index(['release_id', 'country', 'year', 'genre', 'format'], dtype='object')\n"
     ]
    }
   ],
   "source": [
    "print(df.columns)"
   ]
  },
  {
   "cell_type": "code",
   "execution_count": 147,
   "id": "154b7f00",
   "metadata": {},
   "outputs": [],
   "source": [
    "#dropping null vallues from \"year/country\" column\n",
    "df.dropna(subset =[\"year\"] , inplace = True)\n",
    "df.dropna(subset =[\"country\"] , inplace = True)"
   ]
  },
  {
   "cell_type": "code",
   "execution_count": null,
   "id": "10e8f5be",
   "metadata": {},
   "outputs": [],
   "source": []
  },
  {
   "cell_type": "code",
   "execution_count": 150,
   "id": "c49df245",
   "metadata": {},
   "outputs": [
    {
     "data": {
      "text/html": [
       "<div>\n",
       "<style scoped>\n",
       "    .dataframe tbody tr th:only-of-type {\n",
       "        vertical-align: middle;\n",
       "    }\n",
       "\n",
       "    .dataframe tbody tr th {\n",
       "        vertical-align: top;\n",
       "    }\n",
       "\n",
       "    .dataframe thead th {\n",
       "        text-align: right;\n",
       "    }\n",
       "</style>\n",
       "<table border=\"1\" class=\"dataframe\">\n",
       "  <thead>\n",
       "    <tr style=\"text-align: right;\">\n",
       "      <th></th>\n",
       "      <th>release_id</th>\n",
       "      <th>country</th>\n",
       "      <th>year</th>\n",
       "      <th>genre</th>\n",
       "      <th>format</th>\n",
       "    </tr>\n",
       "  </thead>\n",
       "  <tbody>\n",
       "    <tr>\n",
       "      <th>974778</th>\n",
       "      <td>1016982</td>\n",
       "      <td>Russia</td>\n",
       "      <td>1903.0</td>\n",
       "      <td>Classical</td>\n",
       "      <td>Shellac</td>\n",
       "    </tr>\n",
       "    <tr>\n",
       "      <th>978473</th>\n",
       "      <td>1020499</td>\n",
       "      <td>US</td>\n",
       "      <td>1897.0</td>\n",
       "      <td>Jazz</td>\n",
       "      <td>Shellac</td>\n",
       "    </tr>\n",
       "    <tr>\n",
       "      <th>1270400</th>\n",
       "      <td>1289378</td>\n",
       "      <td>France</td>\n",
       "      <td>1860.0</td>\n",
       "      <td>Children's</td>\n",
       "      <td>All Media</td>\n",
       "    </tr>\n",
       "    <tr>\n",
       "      <th>1290169</th>\n",
       "      <td>1307084</td>\n",
       "      <td>US</td>\n",
       "      <td>1904.0</td>\n",
       "      <td>Jazz</td>\n",
       "      <td>Cylinder</td>\n",
       "    </tr>\n",
       "    <tr>\n",
       "      <th>1290194</th>\n",
       "      <td>1307106</td>\n",
       "      <td>US</td>\n",
       "      <td>1899.0</td>\n",
       "      <td>Brass &amp; Military</td>\n",
       "      <td>Cylinder</td>\n",
       "    </tr>\n",
       "  </tbody>\n",
       "</table>\n",
       "</div>"
      ],
      "text/plain": [
       "         release_id country    year             genre     format\n",
       "974778      1016982  Russia  1903.0         Classical    Shellac\n",
       "978473      1020499      US  1897.0              Jazz    Shellac\n",
       "1270400     1289378  France  1860.0        Children's  All Media\n",
       "1290169     1307084      US  1904.0              Jazz   Cylinder\n",
       "1290194     1307106      US  1899.0  Brass & Military   Cylinder"
      ]
     },
     "execution_count": 150,
     "metadata": {},
     "output_type": "execute_result"
    }
   ],
   "source": [
    "#checking value count in year column\n",
    "df_year = df[(df[\"year\"] < 1910 )]\n",
    "df_year.head()"
   ]
  },
  {
   "cell_type": "code",
   "execution_count": null,
   "id": "5eb3072e",
   "metadata": {},
   "outputs": [],
   "source": []
  },
  {
   "cell_type": "code",
   "execution_count": 153,
   "id": "b82ac1c5",
   "metadata": {},
   "outputs": [
    {
     "data": {
      "text/plain": [
       "array(['Vinyl', 'CD', 'Cassette', 'Box Set', 'All Media', 'File',\n",
       "       'Floppy Disk', 'Flexi-disc', 'DAT', 'Minidisc', 'DVD', 'Lathe Cut',\n",
       "       'CDV', 'Hybrid', 'VHS', 'Acetate', 'SACD', 'DVDr', 'Shellac',\n",
       "       '8-Track Cartridge', 'MVD', 'Laserdisc', 'Reel-To-Reel',\n",
       "       'Memory Stick', 'Betamax', 'DCC', 'UMD', 'Microcassette', 'HD DVD',\n",
       "       'Blu-ray', 'Cylinder', 'DualDisc', 'Edison Disc',\n",
       "       '4-Track Cartridge', 'Pathé Disc', 'VHD', 'Blu-ray-R', 'U-matic',\n",
       "       'Film Reel', 'SelectaVision', 'MiniDV', 'Video8', 'Betacam SP',\n",
       "       'PlayTape', 'Video 2000', 'Elcaset', 'Wire Recording',\n",
       "       'NT Cassette', 'Betacam', 'Tefifon', 'RCA Tape Cartridge',\n",
       "       'Pocket Rocker', 'DC-International', 'Cartrivision', 'HD DVD-R'],\n",
       "      dtype=object)"
      ]
     },
     "execution_count": 153,
     "metadata": {},
     "output_type": "execute_result"
    }
   ],
   "source": [
    "#checking unique values\n",
    "df[\"format\"].unique()"
   ]
  },
  {
   "cell_type": "code",
   "execution_count": 154,
   "id": "0d524517",
   "metadata": {},
   "outputs": [],
   "source": [
    "#dropping the rows that have values non related to music format\n",
    "\n",
    "types= ['All Media', 'File',\n",
    "       'Floppy Disk', 'DVD', 'Hybrid', 'VHS', 'DVDr',\n",
    "       '8-Track Cartridge', 'Reel-To-Reel',\n",
    "       'Memory Stick', 'Betamax', 'HD DVD','Cylinder',\n",
    "       '4-Track Cartridge', 'VHD', 'Blu-ray-R', 'U-matic',\n",
    "       'Film Reel', 'SelectaVision', 'MiniDV', 'Video8', 'Betacam SP',\n",
    "       'PlayTape', 'Video 2000', 'Wire Recording','Betacam', 'Tefifon',\n",
    "       'Pocket Rocker', 'Cartrivision', 'HD DVD-R','RCA Tape Cartridge','UMD','Box Set','CDV','Flexi-disc']\n",
    "\n",
    "new_df = df[df[\"format\"].str.contains('|'.join(types)) == False]"
   ]
  },
  {
   "cell_type": "code",
   "execution_count": 155,
   "id": "6f635726",
   "metadata": {},
   "outputs": [],
   "source": []
  },
  {
   "cell_type": "code",
   "execution_count": 156,
   "id": "9d1cb64c",
   "metadata": {},
   "outputs": [
    {
     "data": {
      "text/plain": [
       "array(['Vinyl', 'CD', 'Cassette', 'DAT', 'Minidisc', 'Lathe Cut',\n",
       "       'Acetate', 'SACD', 'Shellac', 'MVD', 'Laserdisc', 'DCC',\n",
       "       'Microcassette', 'Blu-ray', 'DualDisc', 'Edison Disc',\n",
       "       'Pathé Disc', 'Elcaset', 'NT Cassette', 'DC-International'],\n",
       "      dtype=object)"
      ]
     },
     "execution_count": 156,
     "metadata": {},
     "output_type": "execute_result"
    }
   ],
   "source": [
    "new_df[\"format\"].unique()"
   ]
  },
  {
   "cell_type": "code",
   "execution_count": 158,
   "id": "dcc570c8",
   "metadata": {},
   "outputs": [],
   "source": [
    "#grouping similar formats into one common format "
   ]
  },
  {
   "cell_type": "code",
   "execution_count": 159,
   "id": "bdde168d",
   "metadata": {},
   "outputs": [],
   "source": [
    "new_df = new_df.replace(to_replace=['Lathe Cut', 'Acetate','Edison Disc','Pathé Disc','Shellac'],\n",
    "           value=\"Vinyl\")"
   ]
  },
  {
   "cell_type": "code",
   "execution_count": 160,
   "id": "6f053c13",
   "metadata": {},
   "outputs": [],
   "source": [
    "new_df = new_df.replace(to_replace=['Minidisc', 'MVD','Laserdisc','DCC','SACD', 'Blu-ray','DualDisc'],\n",
    "           value=\"CD\")"
   ]
  },
  {
   "cell_type": "code",
   "execution_count": 161,
   "id": "bb5dd328",
   "metadata": {},
   "outputs": [],
   "source": [
    "new_df = new_df.replace(to_replace=['DC-International', 'NT Cassette','Elcaset','Microcassette','DAT', 'Blu-ray','DualDisc'],\n",
    "           value='Cassette')"
   ]
  },
  {
   "cell_type": "code",
   "execution_count": null,
   "id": "391d3ce9",
   "metadata": {},
   "outputs": [],
   "source": []
  },
  {
   "cell_type": "code",
   "execution_count": null,
   "id": "eecb750d",
   "metadata": {},
   "outputs": [],
   "source": []
  },
  {
   "cell_type": "code",
   "execution_count": null,
   "id": "56e3a0b4",
   "metadata": {},
   "outputs": [],
   "source": []
  },
  {
   "cell_type": "code",
   "execution_count": 165,
   "id": "c078ba40",
   "metadata": {},
   "outputs": [
    {
     "data": {
      "text/plain": [
       "1889.0"
      ]
     },
     "execution_count": 165,
     "metadata": {},
     "output_type": "execute_result"
    }
   ],
   "source": [
    "#checking the min value in year, and dropping all the values in years before 1950\n",
    "new_df['year'].min()\n",
    "new_df = new_df[(new_df[\"year\"] > 1950 )]\n"
   ]
  },
  {
   "cell_type": "code",
   "execution_count": 167,
   "id": "9d56d697",
   "metadata": {},
   "outputs": [],
   "source": [
    "#dropping year 2020, because of missing data\n",
    "new_df = new_df[(new_df[\"year\"] < 2020 )]\n"
   ]
  },
  {
   "cell_type": "code",
   "execution_count": 214,
   "id": "8b0ac695",
   "metadata": {},
   "outputs": [],
   "source": [
    "global_release = new_df"
   ]
  },
  {
   "cell_type": "code",
   "execution_count": 170,
   "id": "33f6694d",
   "metadata": {},
   "outputs": [
    {
     "data": {
      "text/plain": [
       "release_id      int64\n",
       "country        object\n",
       "year          float64\n",
       "genre          object\n",
       "format         object\n",
       "dtype: object"
      ]
     },
     "execution_count": 170,
     "metadata": {},
     "output_type": "execute_result"
    }
   ],
   "source": [
    "#checking data types\n",
    "global_release.dtypes"
   ]
  },
  {
   "cell_type": "code",
   "execution_count": 174,
   "id": "bca62ff3",
   "metadata": {},
   "outputs": [],
   "source": [
    "#converting year value into int\n",
    "global_release['year'] = global_release['year'].astype(int)\n"
   ]
  },
  {
   "cell_type": "code",
   "execution_count": 46,
   "id": "e3e68c47",
   "metadata": {},
   "outputs": [],
   "source": [
    "my_df = global_release"
   ]
  },
  {
   "cell_type": "code",
   "execution_count": 209,
   "id": "db7e620f",
   "metadata": {},
   "outputs": [],
   "source": [
    "#grouping by country, year and format. format as count\n",
    "#to have aggregated data\n",
    "df_year_country_genre =  my_df.groupby([\"year\",\"country\",\"format\",\"genre\"])[\"format\"].count().reset_index(name=\"records_count\")"
   ]
  },
  {
   "cell_type": "code",
   "execution_count": 215,
   "id": "3f0b43fd",
   "metadata": {},
   "outputs": [
    {
     "data": {
      "text/html": [
       "<div>\n",
       "<style scoped>\n",
       "    .dataframe tbody tr th:only-of-type {\n",
       "        vertical-align: middle;\n",
       "    }\n",
       "\n",
       "    .dataframe tbody tr th {\n",
       "        vertical-align: top;\n",
       "    }\n",
       "\n",
       "    .dataframe thead th {\n",
       "        text-align: right;\n",
       "    }\n",
       "</style>\n",
       "<table border=\"1\" class=\"dataframe\">\n",
       "  <thead>\n",
       "    <tr style=\"text-align: right;\">\n",
       "      <th></th>\n",
       "      <th>year</th>\n",
       "      <th>country</th>\n",
       "      <th>format</th>\n",
       "      <th>genre</th>\n",
       "      <th>records_count</th>\n",
       "    </tr>\n",
       "  </thead>\n",
       "  <tbody>\n",
       "    <tr>\n",
       "      <th>114174</th>\n",
       "      <td>2015</td>\n",
       "      <td>Iceland</td>\n",
       "      <td>Vinyl</td>\n",
       "      <td>Hip Hop</td>\n",
       "      <td>1</td>\n",
       "    </tr>\n",
       "  </tbody>\n",
       "</table>\n",
       "</div>"
      ],
      "text/plain": [
       "        year  country format    genre  records_count\n",
       "114174  2015  Iceland  Vinyl  Hip Hop              1"
      ]
     },
     "execution_count": 215,
     "metadata": {},
     "output_type": "execute_result"
    }
   ],
   "source": [
    "df_year_country_genre.sample()"
   ]
  },
  {
   "cell_type": "code",
   "execution_count": 212,
   "id": "7f563d8a",
   "metadata": {},
   "outputs": [],
   "source": [
    "#exporting to CSV\n",
    "df_year_country_genre.to_csv(\"./Data/format_release.csv\", index = False)"
   ]
  },
  {
   "cell_type": "markdown",
   "id": "3236a840",
   "metadata": {
    "scrolled": true
   },
   "source": [
    "# LP unit sold US 1993-2021"
   ]
  },
  {
   "cell_type": "markdown",
   "id": "74300ed7",
   "metadata": {},
   "source": [
    "Data on vinyl album sales in the United States from 1993 to 2020 shows consistent growth since 2006, and in 2021 a total of 41.7 million vinyl albums were sold, up by over 50 percent percent from the previous year.\n",
    "\n",
    "\n",
    " LP/vinyl sales - additional information \n",
    "\n",
    "Vinyl records, or LPs (short for Long Play), dominated the music recording industry for most of the twentieth century, holding their own against cassette tapes between the 1970s and 1990s, but sales of the compact disc (or CD), introduced in 1983, outpaced LP sales by the end of the 1980s. LPs have been enjoying a comeback in recent years, and the vinyl record is the only format of music available that has recorded positive sales growth from 2009 to 2017. This is impressive, especially because the overall number of albums sold in all formats has been decreasing since at least 2007.\n",
    "\n",
    " \n",
    "    ###  Add graph for album decrease"
   ]
  },
  {
   "cell_type": "code",
   "execution_count": 223,
   "id": "5c279ba0",
   "metadata": {
    "scrolled": false
   },
   "outputs": [],
   "source": [
    "lp_sales_unit_df = pd.read_csv('./Data/unit_sales_us.csv')\n"
   ]
  },
  {
   "cell_type": "code",
   "execution_count": 224,
   "id": "231c0f1f",
   "metadata": {
    "scrolled": true
   },
   "outputs": [
    {
     "data": {
      "text/html": [
       "<div>\n",
       "<style scoped>\n",
       "    .dataframe tbody tr th:only-of-type {\n",
       "        vertical-align: middle;\n",
       "    }\n",
       "\n",
       "    .dataframe tbody tr th {\n",
       "        vertical-align: top;\n",
       "    }\n",
       "\n",
       "    .dataframe thead th {\n",
       "        text-align: right;\n",
       "    }\n",
       "</style>\n",
       "<table border=\"1\" class=\"dataframe\">\n",
       "  <thead>\n",
       "    <tr style=\"text-align: right;\">\n",
       "      <th></th>\n",
       "      <th>year</th>\n",
       "      <th>unit sale in million</th>\n",
       "    </tr>\n",
       "  </thead>\n",
       "  <tbody>\n",
       "    <tr>\n",
       "      <th>0</th>\n",
       "      <td>1993</td>\n",
       "      <td>0.3</td>\n",
       "    </tr>\n",
       "    <tr>\n",
       "      <th>1</th>\n",
       "      <td>1994</td>\n",
       "      <td>0.6</td>\n",
       "    </tr>\n",
       "    <tr>\n",
       "      <th>2</th>\n",
       "      <td>1995</td>\n",
       "      <td>0.8</td>\n",
       "    </tr>\n",
       "    <tr>\n",
       "      <th>3</th>\n",
       "      <td>1996</td>\n",
       "      <td>1.1</td>\n",
       "    </tr>\n",
       "    <tr>\n",
       "      <th>4</th>\n",
       "      <td>1997</td>\n",
       "      <td>1.1</td>\n",
       "    </tr>\n",
       "  </tbody>\n",
       "</table>\n",
       "</div>"
      ],
      "text/plain": [
       "   year  unit sale in million\n",
       "0  1993                   0.3\n",
       "1  1994                   0.6\n",
       "2  1995                   0.8\n",
       "3  1996                   1.1\n",
       "4  1997                   1.1"
      ]
     },
     "execution_count": 224,
     "metadata": {},
     "output_type": "execute_result"
    }
   ],
   "source": [
    "lp_sales_unit_df.head()\n"
   ]
  },
  {
   "cell_type": "code",
   "execution_count": 225,
   "id": "c72320b5",
   "metadata": {},
   "outputs": [],
   "source": [
    "lp_sales_unit_df[\"unit sale in million\"] = lp_sales_unit_df[\"unit sale in million\"].astype(float)\n"
   ]
  },
  {
   "cell_type": "code",
   "execution_count": 221,
   "id": "b2e550df",
   "metadata": {},
   "outputs": [],
   "source": []
  },
  {
   "cell_type": "code",
   "execution_count": 227,
   "id": "a41c764e",
   "metadata": {},
   "outputs": [
    {
     "data": {
      "text/html": [
       "<div>\n",
       "<style scoped>\n",
       "    .dataframe tbody tr th:only-of-type {\n",
       "        vertical-align: middle;\n",
       "    }\n",
       "\n",
       "    .dataframe tbody tr th {\n",
       "        vertical-align: top;\n",
       "    }\n",
       "\n",
       "    .dataframe thead th {\n",
       "        text-align: right;\n",
       "    }\n",
       "</style>\n",
       "<table border=\"1\" class=\"dataframe\">\n",
       "  <thead>\n",
       "    <tr style=\"text-align: right;\">\n",
       "      <th></th>\n",
       "      <th>year</th>\n",
       "      <th>unit sale in million</th>\n",
       "    </tr>\n",
       "  </thead>\n",
       "  <tbody>\n",
       "    <tr>\n",
       "      <th>7</th>\n",
       "      <td>2000</td>\n",
       "      <td>1.5</td>\n",
       "    </tr>\n",
       "  </tbody>\n",
       "</table>\n",
       "</div>"
      ],
      "text/plain": [
       "   year  unit sale in million\n",
       "7  2000                   1.5"
      ]
     },
     "execution_count": 227,
     "metadata": {},
     "output_type": "execute_result"
    }
   ],
   "source": [
    "lp_sales_unit_df.sample()"
   ]
  },
  {
   "cell_type": "code",
   "execution_count": 228,
   "id": "70ede228",
   "metadata": {},
   "outputs": [
    {
     "data": {
      "image/png": "[encoded data removed]",
      "text/plain": [
       "<Figure size 1152x648 with 1 Axes>"
      ]
     },
     "metadata": {},
     "output_type": "display_data"
    }
   ],
   "source": [
    "sns.lineplot( x = \"year\",y = \"unit sale in million\", data = lp_sales_unit_df);"
   ]
  },
  {
   "cell_type": "code",
   "execution_count": 229,
   "id": "37ea8557",
   "metadata": {},
   "outputs": [],
   "source": [
    "lp_df.to_csv(\"./Data/unit_sales_us_new.csv\", index = False)"
   ]
  },
  {
   "cell_type": "code",
   "execution_count": null,
   "id": "b7d1d310",
   "metadata": {},
   "outputs": [],
   "source": []
  },
  {
   "cell_type": "code",
   "execution_count": 92,
   "id": "f3a252e9",
   "metadata": {},
   "outputs": [],
   "source": []
  },
  {
   "cell_type": "code",
   "execution_count": null,
   "id": "0aaf7d74",
   "metadata": {},
   "outputs": [],
   "source": []
  },
  {
   "cell_type": "markdown",
   "id": "b7c0dc74",
   "metadata": {},
   "source": [
    "# LP Sales worldwide 1997-2015"
   ]
  },
  {
   "cell_type": "markdown",
   "id": "d42b25ae",
   "metadata": {},
   "source": [
    "The timeline shows data on vinyl record sales worldwide from 1997 to 2015. In 2005, vinyl records generated 35 million U.S. dollars in sales, a figure which increased more than tenfold to 416 million U.S. dollars in 2015. Data for vinyl album sales in the United States can be found here . Vinyls have experienced a resurgence in recent years and a total of over 13 million units were sold in the United States in 2016, up from just 2.8 million in 2010. \n",
    "\n",
    "\n",
    "In line with the global trend, over 13 million vinyl albums were sold in the U.S. in 2016, a significant increase from one million units sold in 2007. Amazon is the most popular place to purchase a vinyl record in the U.S. , accounting for nearly 40 percent of the market share. Best Buy is the second most popular retailer for vinyl records. Independent record stores, eBay and swap meet or flea markets are also common places American purchase LP records. \n",
    "\n",
    "\n",
    "\n",
    " "
   ]
  },
  {
   "cell_type": "code",
   "execution_count": 179,
   "id": "c2af9336",
   "metadata": {},
   "outputs": [],
   "source": [
    "sale_df = pd.read_csv('./Data/record_sales_worldwide.csv')\n",
    " "
   ]
  },
  {
   "cell_type": "code",
   "execution_count": 180,
   "id": "a78cc85e",
   "metadata": {
    "scrolled": true
   },
   "outputs": [
    {
     "data": {
      "text/html": [
       "<div>\n",
       "<style scoped>\n",
       "    .dataframe tbody tr th:only-of-type {\n",
       "        vertical-align: middle;\n",
       "    }\n",
       "\n",
       "    .dataframe tbody tr th {\n",
       "        vertical-align: top;\n",
       "    }\n",
       "\n",
       "    .dataframe thead th {\n",
       "        text-align: right;\n",
       "    }\n",
       "</style>\n",
       "<table border=\"1\" class=\"dataframe\">\n",
       "  <thead>\n",
       "    <tr style=\"text-align: right;\">\n",
       "      <th></th>\n",
       "      <th>Unnamed: 0</th>\n",
       "      <th>Unnamed: 1</th>\n",
       "      <th>Unnamed: 2</th>\n",
       "    </tr>\n",
       "  </thead>\n",
       "  <tbody>\n",
       "    <tr>\n",
       "      <th>0</th>\n",
       "      <td>NaN</td>\n",
       "      <td>NaN</td>\n",
       "      <td>NaN</td>\n",
       "    </tr>\n",
       "    <tr>\n",
       "      <th>1</th>\n",
       "      <td>NaN</td>\n",
       "      <td>NaN</td>\n",
       "      <td>NaN</td>\n",
       "    </tr>\n",
       "    <tr>\n",
       "      <th>2</th>\n",
       "      <td>NaN</td>\n",
       "      <td>NaN</td>\n",
       "      <td>NaN</td>\n",
       "    </tr>\n",
       "    <tr>\n",
       "      <th>3</th>\n",
       "      <td>NaN</td>\n",
       "      <td>year</td>\n",
       "      <td>Global sales</td>\n",
       "    </tr>\n",
       "    <tr>\n",
       "      <th>4</th>\n",
       "      <td>NaN</td>\n",
       "      <td>1997</td>\n",
       "      <td>137,000,000</td>\n",
       "    </tr>\n",
       "    <tr>\n",
       "      <th>5</th>\n",
       "      <td>NaN</td>\n",
       "      <td>1998</td>\n",
       "      <td>125,000,000</td>\n",
       "    </tr>\n",
       "    <tr>\n",
       "      <th>6</th>\n",
       "      <td>NaN</td>\n",
       "      <td>1999</td>\n",
       "      <td>133,000,000</td>\n",
       "    </tr>\n",
       "    <tr>\n",
       "      <th>7</th>\n",
       "      <td>NaN</td>\n",
       "      <td>2000</td>\n",
       "      <td>93,000,000</td>\n",
       "    </tr>\n",
       "    <tr>\n",
       "      <th>8</th>\n",
       "      <td>NaN</td>\n",
       "      <td>2001</td>\n",
       "      <td>81,000,000</td>\n",
       "    </tr>\n",
       "    <tr>\n",
       "      <th>9</th>\n",
       "      <td>NaN</td>\n",
       "      <td>2002</td>\n",
       "      <td>58,000,000</td>\n",
       "    </tr>\n",
       "    <tr>\n",
       "      <th>10</th>\n",
       "      <td>NaN</td>\n",
       "      <td>2003</td>\n",
       "      <td>50,000,000</td>\n",
       "    </tr>\n",
       "    <tr>\n",
       "      <th>11</th>\n",
       "      <td>NaN</td>\n",
       "      <td>2004</td>\n",
       "      <td>46,000,000</td>\n",
       "    </tr>\n",
       "    <tr>\n",
       "      <th>12</th>\n",
       "      <td>NaN</td>\n",
       "      <td>2005</td>\n",
       "      <td>35,000,000</td>\n",
       "    </tr>\n",
       "    <tr>\n",
       "      <th>13</th>\n",
       "      <td>NaN</td>\n",
       "      <td>2006</td>\n",
       "      <td>34,000,000</td>\n",
       "    </tr>\n",
       "    <tr>\n",
       "      <th>14</th>\n",
       "      <td>NaN</td>\n",
       "      <td>2007</td>\n",
       "      <td>48,000,000</td>\n",
       "    </tr>\n",
       "    <tr>\n",
       "      <th>15</th>\n",
       "      <td>NaN</td>\n",
       "      <td>2008</td>\n",
       "      <td>65,000,000</td>\n",
       "    </tr>\n",
       "    <tr>\n",
       "      <th>16</th>\n",
       "      <td>NaN</td>\n",
       "      <td>2009</td>\n",
       "      <td>69,000,000</td>\n",
       "    </tr>\n",
       "    <tr>\n",
       "      <th>17</th>\n",
       "      <td>NaN</td>\n",
       "      <td>2010</td>\n",
       "      <td>87,000,000</td>\n",
       "    </tr>\n",
       "    <tr>\n",
       "      <th>18</th>\n",
       "      <td>NaN</td>\n",
       "      <td>2011</td>\n",
       "      <td>114,000,000</td>\n",
       "    </tr>\n",
       "    <tr>\n",
       "      <th>19</th>\n",
       "      <td>NaN</td>\n",
       "      <td>2012</td>\n",
       "      <td>171,000,000</td>\n",
       "    </tr>\n",
       "    <tr>\n",
       "      <th>20</th>\n",
       "      <td>NaN</td>\n",
       "      <td>2013</td>\n",
       "      <td>224,000,000</td>\n",
       "    </tr>\n",
       "    <tr>\n",
       "      <th>21</th>\n",
       "      <td>NaN</td>\n",
       "      <td>2014</td>\n",
       "      <td>347,000,000</td>\n",
       "    </tr>\n",
       "    <tr>\n",
       "      <th>22</th>\n",
       "      <td>NaN</td>\n",
       "      <td>2015</td>\n",
       "      <td>416,000,000</td>\n",
       "    </tr>\n",
       "  </tbody>\n",
       "</table>\n",
       "</div>"
      ],
      "text/plain": [
       "    Unnamed: 0 Unnamed: 1    Unnamed: 2\n",
       "0          NaN        NaN           NaN\n",
       "1          NaN        NaN           NaN\n",
       "2          NaN        NaN           NaN\n",
       "3          NaN       year  Global sales\n",
       "4          NaN       1997   137,000,000\n",
       "5          NaN       1998   125,000,000\n",
       "6          NaN       1999   133,000,000\n",
       "7          NaN       2000    93,000,000\n",
       "8          NaN       2001    81,000,000\n",
       "9          NaN       2002    58,000,000\n",
       "10         NaN       2003    50,000,000\n",
       "11         NaN       2004    46,000,000\n",
       "12         NaN       2005    35,000,000\n",
       "13         NaN       2006    34,000,000\n",
       "14         NaN       2007    48,000,000\n",
       "15         NaN       2008    65,000,000\n",
       "16         NaN       2009    69,000,000\n",
       "17         NaN       2010    87,000,000\n",
       "18         NaN       2011   114,000,000\n",
       "19         NaN       2012   171,000,000\n",
       "20         NaN       2013   224,000,000\n",
       "21         NaN       2014   347,000,000\n",
       "22         NaN       2015   416,000,000"
      ]
     },
     "execution_count": 180,
     "metadata": {},
     "output_type": "execute_result"
    }
   ],
   "source": [
    "sale_df"
   ]
  },
  {
   "cell_type": "code",
   "execution_count": null,
   "id": "84799320",
   "metadata": {},
   "outputs": [],
   "source": []
  }
 ],
 "metadata": {
  "kernelspec": {
   "display_name": "ironhack",
   "language": "python",
   "name": "ironhack"
  },
  "language_info": {
   "codemirror_mode": {
    "name": "ipython",
    "version": 3
   },
   "file_extension": ".py",
   "mimetype": "text/x-python",
   "name": "python",
   "nbconvert_exporter": "python",
   "pygments_lexer": "ipython3",
   "version": "3.9.12"
  }
 },
 "nbformat": 4,
 "nbformat_minor": 5
}
