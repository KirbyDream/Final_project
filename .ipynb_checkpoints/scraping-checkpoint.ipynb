{
 "cells": [
  {
   "cell_type": "code",
   "execution_count": 288,
   "id": "c4449f34",
   "metadata": {},
   "outputs": [
    {
     "name": "stderr",
     "output_type": "stream",
     "text": [
      "Python-dotenv could not parse statement starting at line 9\n"
     ]
    }
   ],
   "source": [
    "import os\n",
    "\n",
    "import json\n",
    "import requests\n",
    "import pyjsonviewer\n",
    "\n",
    "from functools import reduce\n",
    "import operator\n",
    "\n",
    "import pandas as pd\n",
    "import numpy as np\n",
    "\n",
    "import requests\n",
    "from bs4 import BeautifulSoup\n",
    "import pandas as pd\n",
    "import requests\n",
    "import re\n",
    "\n",
    "from dotenv import load_dotenv\n",
    "load_dotenv()\n",
    "\n",
    "import pandas as pd\n",
    "import seaborn as sns\n",
    "import matplotlib.pyplot as plt\n",
    "from matplotlib import pyplot as plt\n",
    "%matplotlib inline\n",
    "%config Inlinebackend.figure_format = 'retina'\n",
    "\n",
    "import seaborn as sns\n",
    "sns.set_context('poster')\n",
    "sns.set(rc={'figure.figsize': (16., 9.)})\n",
    "sns.set_style('whitegrid')\n",
    "\n",
    "import pylab as p\n",
    "import numpy as np\n",
    "import pandas as pd"
   ]
  },
  {
   "cell_type": "code",
   "execution_count": 289,
   "id": "c85caf93",
   "metadata": {},
   "outputs": [],
   "source": [
    "#scrapping wikipedia page for data about vinyl sales\n",
    "url = \"https://en.wikipedia.org/wiki/Vinyl_revival\""
   ]
  },
  {
   "cell_type": "code",
   "execution_count": 290,
   "id": "bd464de1",
   "metadata": {},
   "outputs": [],
   "source": [
    "s = requests.Session()\n",
    "response = s.get(url)"
   ]
  },
  {
   "cell_type": "code",
   "execution_count": 291,
   "id": "2dab4ccf",
   "metadata": {},
   "outputs": [
    {
     "name": "stdout",
     "output_type": "stream",
     "text": [
      "200\n"
     ]
    }
   ],
   "source": [
    "print(response.status_code)"
   ]
  },
  {
   "cell_type": "code",
   "execution_count": 292,
   "id": "917b5c5b",
   "metadata": {},
   "outputs": [],
   "source": [
    "soup = BeautifulSoup(response.content, \"html.parser\")\n",
    "tags = soup.find(\"table\", {\"class\":\"wikitable\"})\n",
    "my_table = pd.read_html(tags.prettify())\n"
   ]
  },
  {
   "cell_type": "code",
   "execution_count": 293,
   "id": "776fa6fe",
   "metadata": {},
   "outputs": [],
   "source": [
    "table = my_table[0]"
   ]
  },
  {
   "cell_type": "code",
   "execution_count": 296,
   "id": "b9be852c",
   "metadata": {},
   "outputs": [
    {
     "data": {
      "text/html": [
       "<div>\n",
       "<style scoped>\n",
       "    .dataframe tbody tr th:only-of-type {\n",
       "        vertical-align: middle;\n",
       "    }\n",
       "\n",
       "    .dataframe tbody tr th {\n",
       "        vertical-align: top;\n",
       "    }\n",
       "\n",
       "    .dataframe thead th {\n",
       "        text-align: right;\n",
       "    }\n",
       "</style>\n",
       "<table border=\"1\" class=\"dataframe\">\n",
       "  <thead>\n",
       "    <tr style=\"text-align: right;\">\n",
       "      <th></th>\n",
       "      <th>Countries</th>\n",
       "      <th>2007</th>\n",
       "      <th>2007.1</th>\n",
       "      <th>2008</th>\n",
       "      <th>2008.1</th>\n",
       "      <th>2009</th>\n",
       "      <th>2009.1</th>\n",
       "      <th>2010</th>\n",
       "      <th>2010.1</th>\n",
       "      <th>2011</th>\n",
       "      <th>...</th>\n",
       "      <th>2015</th>\n",
       "      <th>2015.1</th>\n",
       "      <th>2016</th>\n",
       "      <th>2016.1</th>\n",
       "      <th>2017</th>\n",
       "      <th>2017.1</th>\n",
       "      <th>2018</th>\n",
       "      <th>2018.1</th>\n",
       "      <th>2019</th>\n",
       "      <th>2019.1</th>\n",
       "    </tr>\n",
       "  </thead>\n",
       "  <tbody>\n",
       "    <tr>\n",
       "      <th>1</th>\n",
       "      <td>Australia  (SP/LP)</td>\n",
       "      <td>10000</td>\n",
       "      <td>17,996  [46]</td>\n",
       "      <td>10000</td>\n",
       "      <td>19,608  [47]</td>\n",
       "      <td>10000</td>\n",
       "      <td>53,766  [48]</td>\n",
       "      <td>13677</td>\n",
       "      <td>39,644  [49]</td>\n",
       "      <td>13637</td>\n",
       "      <td>...</td>\n",
       "      <td>374,097  [53]</td>\n",
       "      <td>374,097  [53]</td>\n",
       "      <td>655,301  [54]</td>\n",
       "      <td>655,301  [54]</td>\n",
       "      <td>786,735  [54]</td>\n",
       "      <td>786,735  [54]</td>\n",
       "      <td>–</td>\n",
       "      <td>–</td>\n",
       "      <td>–</td>\n",
       "      <td>–</td>\n",
       "    </tr>\n",
       "  </tbody>\n",
       "</table>\n",
       "<p>1 rows × 27 columns</p>\n",
       "</div>"
      ],
      "text/plain": [
       "            Countries   2007        2007.1   2008        2008.1   2009  \\\n",
       "1  Australia  (SP/LP)  10000  17,996  [46]  10000  19,608  [47]  10000   \n",
       "\n",
       "         2009.1   2010        2010.1   2011  ...           2015  \\\n",
       "1  53,766  [48]  13677  39,644  [49]  13637  ...  374,097  [53]   \n",
       "\n",
       "          2015.1           2016         2016.1           2017         2017.1  \\\n",
       "1  374,097  [53]  655,301  [54]  655,301  [54]  786,735  [54]  786,735  [54]   \n",
       "\n",
       "  2018 2018.1 2019 2019.1  \n",
       "1    –      –    –      –  \n",
       "\n",
       "[1 rows x 27 columns]"
      ]
     },
     "execution_count": 296,
     "metadata": {},
     "output_type": "execute_result"
    }
   ],
   "source": [
    "table.sample()"
   ]
  },
  {
   "cell_type": "code",
   "execution_count": 297,
   "id": "d2077cec",
   "metadata": {},
   "outputs": [],
   "source": [
    "clean_table = table"
   ]
  },
  {
   "cell_type": "code",
   "execution_count": 308,
   "id": "4e37b37a",
   "metadata": {},
   "outputs": [],
   "source": [
    "#clean_table[\"Countries\"].unique()"
   ]
  },
  {
   "cell_type": "code",
   "execution_count": 299,
   "id": "1450e3d8",
   "metadata": {},
   "outputs": [],
   "source": [
    "def cleaning_df_data(raw_dataframe):\n",
    "    \"\"\"Dropping irrelevent data and removing special characters to have a dataset of clean numbers\"\"\"\n",
    "    #remove brackets and parenthesis from values\n",
    "    raw_dataframe = raw_dataframe.replace('[\\(\\[].*?[\\)\\]]', '', regex=True)\n",
    "    raw_dataframe = raw_dataframe.drop(index=0)\n",
    "    raw_dataframe = raw_dataframe.drop(index=11)\n",
    "    raw_dataframe = raw_dataframe.replace(',', '', regex=True)\n",
    "    raw_dataframe = raw_dataframe.replace('–', '', regex=True)\n",
    "    raw_dataframe = raw_dataframe.replace('', 0)\n",
    "    raw_dataframe = raw_dataframe.replace('\\+', '', regex=True)\n",
    "    raw_dataframe = raw_dataframe.replace('±', '', regex=True)\n",
    "    raw_dataframe = raw_dataframe.replace('-', 0)\n",
    "    return raw_dataframe\n",
    "    \n",
    "\n",
    "    "
   ]
  },
  {
   "cell_type": "code",
   "execution_count": 300,
   "id": "ad3f5a48",
   "metadata": {},
   "outputs": [],
   "source": [
    "clean_df = cleaning_df_data(clean_table)"
   ]
  },
  {
   "cell_type": "code",
   "execution_count": 309,
   "id": "b1f72fe5",
   "metadata": {},
   "outputs": [
    {
     "data": {
      "text/html": [
       "<div>\n",
       "<style scoped>\n",
       "    .dataframe tbody tr th:only-of-type {\n",
       "        vertical-align: middle;\n",
       "    }\n",
       "\n",
       "    .dataframe tbody tr th {\n",
       "        vertical-align: top;\n",
       "    }\n",
       "\n",
       "    .dataframe thead th {\n",
       "        text-align: right;\n",
       "    }\n",
       "</style>\n",
       "<table border=\"1\" class=\"dataframe\">\n",
       "  <thead>\n",
       "    <tr style=\"text-align: right;\">\n",
       "      <th></th>\n",
       "      <th>Countries</th>\n",
       "      <th>2007</th>\n",
       "      <th>2007.1</th>\n",
       "      <th>2008</th>\n",
       "      <th>2008.1</th>\n",
       "      <th>2009</th>\n",
       "      <th>2009.1</th>\n",
       "      <th>2010</th>\n",
       "      <th>2010.1</th>\n",
       "      <th>2011</th>\n",
       "      <th>...</th>\n",
       "      <th>2015</th>\n",
       "      <th>2015.1</th>\n",
       "      <th>2016</th>\n",
       "      <th>2016.1</th>\n",
       "      <th>2017</th>\n",
       "      <th>2017.1</th>\n",
       "      <th>2018</th>\n",
       "      <th>2018.1</th>\n",
       "      <th>2019</th>\n",
       "      <th>2019.1</th>\n",
       "    </tr>\n",
       "  </thead>\n",
       "  <tbody>\n",
       "    <tr>\n",
       "      <th>2</th>\n",
       "      <td>Germany</td>\n",
       "      <td>400000</td>\n",
       "      <td>400000</td>\n",
       "      <td>700000</td>\n",
       "      <td>700000</td>\n",
       "      <td>1200000</td>\n",
       "      <td>1200000</td>\n",
       "      <td>635000</td>\n",
       "      <td>635000</td>\n",
       "      <td>700000</td>\n",
       "      <td>...</td>\n",
       "      <td>2100000</td>\n",
       "      <td>2100000</td>\n",
       "      <td>3100000</td>\n",
       "      <td>3100000</td>\n",
       "      <td>0</td>\n",
       "      <td>0</td>\n",
       "      <td>0</td>\n",
       "      <td>0</td>\n",
       "      <td>0</td>\n",
       "      <td>0</td>\n",
       "    </tr>\n",
       "  </tbody>\n",
       "</table>\n",
       "<p>1 rows × 27 columns</p>\n",
       "</div>"
      ],
      "text/plain": [
       "   Countries      2007    2007.1      2008    2008.1       2009     2009.1  \\\n",
       "2  Germany    400000    400000    700000    700000    1200000    1200000     \n",
       "\n",
       "       2010    2010.1          2011  ...       2015     2015.1       2016  \\\n",
       "2  635000    635000    700000        ...  2100000    2100000    3100000     \n",
       "\n",
       "      2016.1 2017 2017.1 2018 2018.1 2019 2019.1  \n",
       "2  3100000      0      0    0      0    0      0  \n",
       "\n",
       "[1 rows x 27 columns]"
      ]
     },
     "execution_count": 309,
     "metadata": {},
     "output_type": "execute_result"
    }
   ],
   "source": [
    "clean_df.sample()"
   ]
  },
  {
   "cell_type": "code",
   "execution_count": 302,
   "id": "9b2959b9",
   "metadata": {},
   "outputs": [],
   "source": [
    "#pivoting the table using the melt function in order to have Countries,years and value as columns\n",
    "clean_melt = clean_df.melt(id_vars = ['Countries'], var_name = 'Year', value_name = 'value').sort_values('Year')"
   ]
  },
  {
   "cell_type": "code",
   "execution_count": 304,
   "id": "8340a2b6",
   "metadata": {},
   "outputs": [],
   "source": [
    "clean_melt.reset_index(inplace = True)"
   ]
  },
  {
   "cell_type": "code",
   "execution_count": 305,
   "id": "264a81b5",
   "metadata": {},
   "outputs": [],
   "source": [
    "#changing values expressed in m \"million\" to explicit values\n",
    "\n",
    "clean_melt.at[211,'value']='3200000'\n",
    "clean_melt.at[231,'value']='4200000'\n",
    "clean_melt.at[259,'value']='0'\n"
   ]
  },
  {
   "cell_type": "code",
   "execution_count": 306,
   "id": "9ce5a9a7",
   "metadata": {
    "scrolled": true
   },
   "outputs": [],
   "source": [
    "clean_melt = clean_melt.dropna()"
   ]
  },
  {
   "cell_type": "code",
   "execution_count": 307,
   "id": "4d9ea9b7",
   "metadata": {},
   "outputs": [
    {
     "data": {
      "text/plain": [
       "index        0\n",
       "Countries    0\n",
       "Year         0\n",
       "value        0\n",
       "dtype: int64"
      ]
     },
     "execution_count": 307,
     "metadata": {},
     "output_type": "execute_result"
    }
   ],
   "source": [
    "clean_melt.isnull().sum()"
   ]
  },
  {
   "cell_type": "code",
   "execution_count": 269,
   "id": "57542a7b",
   "metadata": {},
   "outputs": [],
   "source": [
    "#some countries have the record sales split between LP/SP \n",
    "#we iterate over the countries with split values and sum them into a single row"
   ]
  },
  {
   "attachments": {
    "wiki_scrap_example.png": {
     "image/png": "[encoded data removed]"
    }
   },
   "cell_type": "markdown",
   "id": "2936ea9c",
   "metadata": {},
   "source": [
    "![wiki_scrap_example.png](attachment:wiki_scrap_example.png)"
   ]
  },
  {
   "cell_type": "code",
   "execution_count": null,
   "id": "9a398259",
   "metadata": {},
   "outputs": [],
   "source": [
    "from numpy import int64\n"
   ]
  },
  {
   "cell_type": "code",
   "execution_count": 270,
   "id": "104c8350",
   "metadata": {},
   "outputs": [],
   "source": [
    "for index, row in clean_melt.iterrows():\n",
    "    for index2, row2 in clean_melt.iterrows():\n",
    "        if row[\"Year\"] == row2[\"Year\"] +\".1\":\n",
    "            if row[\"value\"] != row2[\"value\"] and row[\"Countries\"] == row2[\"Countries\"]:\n",
    "                clean_melt.loc[index,\"value\"] = int64(row2[\"value\"]) + int64(row[\"value\"])\n",
    "                #print(index)\n",
    "                #print(clean_melt.loc[index,\"Countries\"])\n",
    "                #print(clean_melt.loc[index,\"value\"])"
   ]
  },
  {
   "cell_type": "code",
   "execution_count": null,
   "id": "e54b5827",
   "metadata": {},
   "outputs": [],
   "source": []
  },
  {
   "cell_type": "code",
   "execution_count": 271,
   "id": "2b2d85df",
   "metadata": {},
   "outputs": [],
   "source": [
    "clean_melt = clean_melt[clean_melt[\"Year\"].str.contains(\"\\.1\") == True]\n",
    "clean_melt = clean_melt.replace('\\.1', \"\", regex=True)\n",
    "clean_melt.reset_index(inplace = True)\n",
    "clean_melt.drop(['level_0', 'index'], axis = 1, inplace = True) \n"
   ]
  },
  {
   "cell_type": "code",
   "execution_count": 281,
   "id": "169cd0c2",
   "metadata": {
    "scrolled": true
   },
   "outputs": [],
   "source": [
    "#dropping column for missing values\n",
    "clean_melt = clean_melt[clean_melt[\"Year\"].str.contains(\"2019\")==False]\n"
   ]
  },
  {
   "cell_type": "code",
   "execution_count": 283,
   "id": "b7d5cd99",
   "metadata": {},
   "outputs": [
    {
     "name": "stderr",
     "output_type": "stream",
     "text": [
      "C:\\Users\\34603\\AppData\\Local\\Temp\\ipykernel_11776\\3941318138.py:1: SettingWithCopyWarning: \n",
      "A value is trying to be set on a copy of a slice from a DataFrame.\n",
      "Try using .loc[row_indexer,col_indexer] = value instead\n",
      "\n",
      "See the caveats in the documentation: https://pandas.pydata.org/pandas-docs/stable/user_guide/indexing.html#returning-a-view-versus-a-copy\n",
      "  clean_melt[\"Year\"] = pd.to_datetime(clean_melt[\"Year\"])\n"
     ]
    }
   ],
   "source": [
    "#converting date type\n",
    "clean_melt[\"Year\"] = pd.to_datetime(clean_melt[\"Year\"])\n"
   ]
  },
  {
   "cell_type": "code",
   "execution_count": null,
   "id": "4f24bf21",
   "metadata": {},
   "outputs": [],
   "source": []
  },
  {
   "cell_type": "code",
   "execution_count": 284,
   "id": "5ce821fa",
   "metadata": {},
   "outputs": [
    {
     "data": {
      "text/plain": [
       "Countries            object\n",
       "Year         datetime64[ns]\n",
       "value                object\n",
       "dtype: object"
      ]
     },
     "execution_count": 284,
     "metadata": {},
     "output_type": "execute_result"
    }
   ],
   "source": [
    "clean_melt.dtypes"
   ]
  },
  {
   "cell_type": "code",
   "execution_count": 285,
   "id": "a4d46e80",
   "metadata": {},
   "outputs": [
    {
     "data": {
      "text/plain": [
       "Countries            object\n",
       "Year         datetime64[ns]\n",
       "value                 int32\n",
       "dtype: object"
      ]
     },
     "execution_count": 285,
     "metadata": {},
     "output_type": "execute_result"
    }
   ],
   "source": [
    "#converting value type\n",
    "clean_melt = clean_melt.astype({'value': 'int32'})\n",
    "clean_melt.dtypes"
   ]
  },
  {
   "cell_type": "code",
   "execution_count": 286,
   "id": "93f2de9a",
   "metadata": {},
   "outputs": [
    {
     "data": {
      "text/plain": [
       "Countries            object\n",
       "Year         datetime64[ns]\n",
       "value                 int32\n",
       "dtype: object"
      ]
     },
     "execution_count": 286,
     "metadata": {},
     "output_type": "execute_result"
    }
   ],
   "source": [
    "clean_melt.dtypes"
   ]
  },
  {
   "cell_type": "code",
   "execution_count": null,
   "id": "b648ec49",
   "metadata": {},
   "outputs": [],
   "source": []
  },
  {
   "cell_type": "code",
   "execution_count": 287,
   "id": "0f46e469",
   "metadata": {},
   "outputs": [],
   "source": [
    "clean_melt.to_csv(\"./Data/wiki_scrap.csv\", index = False)"
   ]
  },
  {
   "cell_type": "code",
   "execution_count": 92,
   "id": "6a7b6ab6",
   "metadata": {},
   "outputs": [],
   "source": [
    "#sns.lineplot( x = \"year\",y = \"value\", data = clean_melt);"
   ]
  },
  {
   "cell_type": "code",
   "execution_count": null,
   "id": "96f77527",
   "metadata": {},
   "outputs": [],
   "source": []
  },
  {
   "cell_type": "code",
   "execution_count": 148,
   "id": "595fdc7c",
   "metadata": {},
   "outputs": [],
   "source": []
  },
  {
   "cell_type": "code",
   "execution_count": null,
   "id": "6bed95bd",
   "metadata": {},
   "outputs": [],
   "source": [
    "\n"
   ]
  },
  {
   "cell_type": "markdown",
   "id": "f5fc9d38",
   "metadata": {},
   "source": [
    "Introduced to the consumer market in 1948, vinyl records, also known as LP (Long Play), are an analog medium to store and play music. The vinyl record dominated the music industry from the 1950s until 1990s, when sales started to consistently drop. After being nearly extinguished thanks to the popularity of digital music services, vinyl records have made a comeback in the music industry. LP sales have seen an unprecedented growth in the last few years, as global revenue of vinyl sales increased from 34 million U.S. dollars in 2006 to 416 million U.S. dollars in 2015, the highest figure to-date. The United States is, by far, the leading vinyl record selling market . Germany, United Kingdom, Japan and France are also important markets for this particular segment. Despite sales growth, the LP market is still a niche market, accounting for a small share of the multi-billion-dollar music industry . "
   ]
  },
  {
   "cell_type": "code",
   "execution_count": null,
   "id": "bc50f4f8",
   "metadata": {},
   "outputs": [],
   "source": []
  },
  {
   "cell_type": "code",
   "execution_count": null,
   "id": "2f75199b",
   "metadata": {},
   "outputs": [],
   "source": []
  },
  {
   "cell_type": "code",
   "execution_count": null,
   "id": "9d7759e2",
   "metadata": {},
   "outputs": [],
   "source": []
  },
  {
   "cell_type": "code",
   "execution_count": null,
   "id": "3c7392cb",
   "metadata": {},
   "outputs": [],
   "source": []
  },
  {
   "cell_type": "code",
   "execution_count": null,
   "id": "a4095b0f",
   "metadata": {},
   "outputs": [],
   "source": []
  },
  {
   "cell_type": "code",
   "execution_count": null,
   "id": "6e43e862",
   "metadata": {},
   "outputs": [],
   "source": []
  },
  {
   "cell_type": "code",
   "execution_count": null,
   "id": "396922b2",
   "metadata": {},
   "outputs": [],
   "source": []
  },
  {
   "cell_type": "code",
   "execution_count": null,
   "id": "d769fb00",
   "metadata": {},
   "outputs": [],
   "source": [
    "\n"
   ]
  },
  {
   "cell_type": "code",
   "execution_count": null,
   "id": "d1a86741",
   "metadata": {},
   "outputs": [],
   "source": []
  },
  {
   "cell_type": "code",
   "execution_count": null,
   "id": "d6073452",
   "metadata": {},
   "outputs": [],
   "source": []
  }
 ],
 "metadata": {
  "kernelspec": {
   "display_name": "ironhack",
   "language": "python",
   "name": "ironhack"
  },
  "language_info": {
   "codemirror_mode": {
    "name": "ipython",
    "version": 3
   },
   "file_extension": ".py",
   "mimetype": "text/x-python",
   "name": "python",
   "nbconvert_exporter": "python",
   "pygments_lexer": "ipython3",
   "version": "3.9.12"
  }
 },
 "nbformat": 4,
 "nbformat_minor": 5
}
