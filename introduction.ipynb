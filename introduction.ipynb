{
 "cells": [
  {
   "cell_type": "code",
   "execution_count": 1,
   "id": "994f5ad6",
   "metadata": {},
   "outputs": [],
   "source": [
    "import pandas as pd\n",
    "import seaborn as sns\n",
    "import matplotlib.pyplot as plt\n",
    "from matplotlib import pyplot as plt\n",
    "%matplotlib inline\n",
    "%config Inlinebackend.figure_format = 'retina'\n",
    "\n",
    "import seaborn as sns\n",
    "sns.set_context('poster')\n",
    "sns.set(rc={'figure.figsize': (16., 9.)})\n",
    "sns.set_style('whitegrid')\n",
    "\n",
    "import pylab as p\n",
    "import numpy as np\n",
    "import pandas as pd"
   ]
  },
  {
   "cell_type": "code",
   "execution_count": 2,
   "id": "0835da94",
   "metadata": {},
   "outputs": [],
   "source": [
    "#loading first csv with global record relase data by country, year, genre and format\n",
    "\n",
    "df = pd.read_csv('./Data/release_data.csv')\n",
    "\n"
   ]
  },
  {
   "cell_type": "code",
   "execution_count": null,
   "id": "0ff66a03",
   "metadata": {},
   "outputs": [],
   "source": []
  },
  {
   "cell_type": "code",
   "execution_count": 3,
   "id": "0450ceb5",
   "metadata": {},
   "outputs": [
    {
     "data": {
      "text/plain": [
       "release_id          0\n",
       "country        454549\n",
       "year          2164324\n",
       "genre               3\n",
       "format              0\n",
       "dtype: int64"
      ]
     },
     "execution_count": 3,
     "metadata": {},
     "output_type": "execute_result"
    }
   ],
   "source": [
    "\n",
    "df.isna().sum()"
   ]
  },
  {
   "cell_type": "code",
   "execution_count": 4,
   "id": "68f1f173",
   "metadata": {},
   "outputs": [
    {
     "name": "stdout",
     "output_type": "stream",
     "text": [
      "Index(['release_id', 'country', 'year', 'genre', 'format'], dtype='object')\n"
     ]
    }
   ],
   "source": [
    "print(df.columns)"
   ]
  },
  {
   "cell_type": "code",
   "execution_count": 5,
   "id": "154b7f00",
   "metadata": {},
   "outputs": [],
   "source": [
    "#dropping null vallues from \"year/country\" column\n",
    "df.dropna(subset =[\"year\"] , inplace = True)\n",
    "df.dropna(subset =[\"country\"] , inplace = True)"
   ]
  },
  {
   "cell_type": "code",
   "execution_count": null,
   "id": "10e8f5be",
   "metadata": {},
   "outputs": [],
   "source": []
  },
  {
   "cell_type": "code",
   "execution_count": 6,
   "id": "c49df245",
   "metadata": {},
   "outputs": [
    {
     "data": {
      "text/html": [
       "<div>\n",
       "<style scoped>\n",
       "    .dataframe tbody tr th:only-of-type {\n",
       "        vertical-align: middle;\n",
       "    }\n",
       "\n",
       "    .dataframe tbody tr th {\n",
       "        vertical-align: top;\n",
       "    }\n",
       "\n",
       "    .dataframe thead th {\n",
       "        text-align: right;\n",
       "    }\n",
       "</style>\n",
       "<table border=\"1\" class=\"dataframe\">\n",
       "  <thead>\n",
       "    <tr style=\"text-align: right;\">\n",
       "      <th></th>\n",
       "      <th>release_id</th>\n",
       "      <th>country</th>\n",
       "      <th>year</th>\n",
       "      <th>genre</th>\n",
       "      <th>format</th>\n",
       "    </tr>\n",
       "  </thead>\n",
       "  <tbody>\n",
       "    <tr>\n",
       "      <th>974778</th>\n",
       "      <td>1016982</td>\n",
       "      <td>Russia</td>\n",
       "      <td>1903.0</td>\n",
       "      <td>Classical</td>\n",
       "      <td>Shellac</td>\n",
       "    </tr>\n",
       "    <tr>\n",
       "      <th>978473</th>\n",
       "      <td>1020499</td>\n",
       "      <td>US</td>\n",
       "      <td>1897.0</td>\n",
       "      <td>Jazz</td>\n",
       "      <td>Shellac</td>\n",
       "    </tr>\n",
       "    <tr>\n",
       "      <th>1270400</th>\n",
       "      <td>1289378</td>\n",
       "      <td>France</td>\n",
       "      <td>1860.0</td>\n",
       "      <td>Children's</td>\n",
       "      <td>All Media</td>\n",
       "    </tr>\n",
       "    <tr>\n",
       "      <th>1290169</th>\n",
       "      <td>1307084</td>\n",
       "      <td>US</td>\n",
       "      <td>1904.0</td>\n",
       "      <td>Jazz</td>\n",
       "      <td>Cylinder</td>\n",
       "    </tr>\n",
       "    <tr>\n",
       "      <th>1290194</th>\n",
       "      <td>1307106</td>\n",
       "      <td>US</td>\n",
       "      <td>1899.0</td>\n",
       "      <td>Brass &amp; Military</td>\n",
       "      <td>Cylinder</td>\n",
       "    </tr>\n",
       "  </tbody>\n",
       "</table>\n",
       "</div>"
      ],
      "text/plain": [
       "         release_id country    year             genre     format\n",
       "974778      1016982  Russia  1903.0         Classical    Shellac\n",
       "978473      1020499      US  1897.0              Jazz    Shellac\n",
       "1270400     1289378  France  1860.0        Children's  All Media\n",
       "1290169     1307084      US  1904.0              Jazz   Cylinder\n",
       "1290194     1307106      US  1899.0  Brass & Military   Cylinder"
      ]
     },
     "execution_count": 6,
     "metadata": {},
     "output_type": "execute_result"
    }
   ],
   "source": [
    "#checking value count in year column\n",
    "df_year = df[(df[\"year\"] < 1910 )]\n",
    "df_year.head()"
   ]
  },
  {
   "cell_type": "code",
   "execution_count": null,
   "id": "5eb3072e",
   "metadata": {},
   "outputs": [],
   "source": []
  },
  {
   "cell_type": "code",
   "execution_count": 7,
   "id": "b82ac1c5",
   "metadata": {},
   "outputs": [
    {
     "data": {
      "text/plain": [
       "array(['Vinyl', 'CD', 'Cassette', 'Box Set', 'All Media', 'File',\n",
       "       'Floppy Disk', 'Flexi-disc', 'DAT', 'Minidisc', 'DVD', 'Lathe Cut',\n",
       "       'CDV', 'Hybrid', 'VHS', 'Acetate', 'SACD', 'DVDr', 'Shellac',\n",
       "       '8-Track Cartridge', 'MVD', 'Laserdisc', 'Reel-To-Reel',\n",
       "       'Memory Stick', 'Betamax', 'DCC', 'UMD', 'Microcassette', 'HD DVD',\n",
       "       'Blu-ray', 'Cylinder', 'DualDisc', 'Edison Disc',\n",
       "       '4-Track Cartridge', 'Pathé Disc', 'VHD', 'Blu-ray-R', 'U-matic',\n",
       "       'Film Reel', 'SelectaVision', 'MiniDV', 'Video8', 'Betacam SP',\n",
       "       'PlayTape', 'Video 2000', 'Elcaset', 'Wire Recording',\n",
       "       'NT Cassette', 'Betacam', 'Tefifon', 'RCA Tape Cartridge',\n",
       "       'Pocket Rocker', 'DC-International', 'Cartrivision', 'HD DVD-R'],\n",
       "      dtype=object)"
      ]
     },
     "execution_count": 7,
     "metadata": {},
     "output_type": "execute_result"
    }
   ],
   "source": [
    "#checking unique values\n",
    "df[\"format\"].unique()"
   ]
  },
  {
   "cell_type": "code",
   "execution_count": 8,
   "id": "0d524517",
   "metadata": {},
   "outputs": [],
   "source": [
    "#dropping the rows that have values non related to music format\n",
    "\n",
    "types= ['All Media', 'File',\n",
    "       'Floppy Disk', 'DVD', 'Hybrid', 'VHS', 'DVDr',\n",
    "       '8-Track Cartridge', 'Reel-To-Reel',\n",
    "       'Memory Stick', 'Betamax', 'HD DVD','Cylinder',\n",
    "       '4-Track Cartridge', 'VHD', 'Blu-ray-R', 'U-matic',\n",
    "       'Film Reel', 'SelectaVision', 'MiniDV', 'Video8', 'Betacam SP',\n",
    "       'PlayTape', 'Video 2000', 'Wire Recording','Betacam', 'Tefifon',\n",
    "       'Pocket Rocker', 'Cartrivision', 'HD DVD-R','RCA Tape Cartridge','UMD','Box Set','CDV','Flexi-disc']\n",
    "\n",
    "new_df = df[df[\"format\"].str.contains('|'.join(types)) == False]"
   ]
  },
  {
   "cell_type": "code",
   "execution_count": null,
   "id": "6f635726",
   "metadata": {},
   "outputs": [],
   "source": []
  },
  {
   "cell_type": "code",
   "execution_count": 9,
   "id": "9d1cb64c",
   "metadata": {},
   "outputs": [
    {
     "data": {
      "text/plain": [
       "array(['Vinyl', 'CD', 'Cassette', 'DAT', 'Minidisc', 'Lathe Cut',\n",
       "       'Acetate', 'SACD', 'Shellac', 'MVD', 'Laserdisc', 'DCC',\n",
       "       'Microcassette', 'Blu-ray', 'DualDisc', 'Edison Disc',\n",
       "       'Pathé Disc', 'Elcaset', 'NT Cassette', 'DC-International'],\n",
       "      dtype=object)"
      ]
     },
     "execution_count": 9,
     "metadata": {},
     "output_type": "execute_result"
    }
   ],
   "source": [
    "new_df[\"format\"].unique()"
   ]
  },
  {
   "cell_type": "code",
   "execution_count": 10,
   "id": "dcc570c8",
   "metadata": {},
   "outputs": [],
   "source": [
    "#grouping similar formats into one common format "
   ]
  },
  {
   "cell_type": "code",
   "execution_count": 11,
   "id": "bdde168d",
   "metadata": {},
   "outputs": [],
   "source": [
    "new_df = new_df.replace(to_replace=['Lathe Cut', 'Acetate','Edison Disc','Pathé Disc','Shellac'],\n",
    "           value=\"Vinyl\")"
   ]
  },
  {
   "cell_type": "code",
   "execution_count": 12,
   "id": "6f053c13",
   "metadata": {},
   "outputs": [],
   "source": [
    "new_df = new_df.replace(to_replace=['Minidisc', 'MVD','Laserdisc','DCC','SACD', 'Blu-ray','DualDisc'],\n",
    "           value=\"CD\")"
   ]
  },
  {
   "cell_type": "code",
   "execution_count": 13,
   "id": "bb5dd328",
   "metadata": {},
   "outputs": [],
   "source": [
    "new_df = new_df.replace(to_replace=['DC-International', 'NT Cassette','Elcaset','Microcassette','DAT', 'Blu-ray','DualDisc'],\n",
    "           value='Cassette')"
   ]
  },
  {
   "cell_type": "code",
   "execution_count": 14,
   "id": "c078ba40",
   "metadata": {},
   "outputs": [],
   "source": [
    "#checking the min value in year, and dropping all the values in years before 1950\n",
    "new_df['year'].min()\n",
    "new_df = new_df[(new_df[\"year\"] > 1950 )]\n"
   ]
  },
  {
   "cell_type": "code",
   "execution_count": 15,
   "id": "9d56d697",
   "metadata": {},
   "outputs": [],
   "source": [
    "#dropping year 2020, because of missing data\n",
    "new_df = new_df[(new_df[\"year\"] < 2020 )]\n"
   ]
  },
  {
   "cell_type": "code",
   "execution_count": 16,
   "id": "8b0ac695",
   "metadata": {},
   "outputs": [],
   "source": [
    "global_release = new_df"
   ]
  },
  {
   "cell_type": "code",
   "execution_count": 17,
   "id": "33f6694d",
   "metadata": {},
   "outputs": [
    {
     "data": {
      "text/plain": [
       "release_id      int64\n",
       "country        object\n",
       "year          float64\n",
       "genre          object\n",
       "format         object\n",
       "dtype: object"
      ]
     },
     "execution_count": 17,
     "metadata": {},
     "output_type": "execute_result"
    }
   ],
   "source": [
    "#checking data types\n",
    "global_release.dtypes"
   ]
  },
  {
   "cell_type": "code",
   "execution_count": 18,
   "id": "bca62ff3",
   "metadata": {},
   "outputs": [],
   "source": [
    "#converting year value into int\n",
    "global_release['year'] = global_release['year'].astype(int)\n"
   ]
  },
  {
   "cell_type": "code",
   "execution_count": 19,
   "id": "e3e68c47",
   "metadata": {},
   "outputs": [],
   "source": [
    "my_df = global_release"
   ]
  },
  {
   "cell_type": "code",
   "execution_count": 20,
   "id": "0c7b78bb",
   "metadata": {},
   "outputs": [],
   "source": [
    "#grouping by country, year and format. format as count\n",
    "#to have aggregated data\n",
    "df_year_country_genre =  my_df.groupby([\"year\",\"country\",\"format\",\"genre\"])[\"format\"].count().reset_index(name=\"records_count\")"
   ]
  },
  {
   "cell_type": "code",
   "execution_count": 21,
   "id": "93fed8e7",
   "metadata": {},
   "outputs": [
    {
     "data": {
      "text/html": [
       "<div>\n",
       "<style scoped>\n",
       "    .dataframe tbody tr th:only-of-type {\n",
       "        vertical-align: middle;\n",
       "    }\n",
       "\n",
       "    .dataframe tbody tr th {\n",
       "        vertical-align: top;\n",
       "    }\n",
       "\n",
       "    .dataframe thead th {\n",
       "        text-align: right;\n",
       "    }\n",
       "</style>\n",
       "<table border=\"1\" class=\"dataframe\">\n",
       "  <thead>\n",
       "    <tr style=\"text-align: right;\">\n",
       "      <th></th>\n",
       "      <th>year</th>\n",
       "      <th>country</th>\n",
       "      <th>format</th>\n",
       "      <th>genre</th>\n",
       "      <th>records_count</th>\n",
       "    </tr>\n",
       "  </thead>\n",
       "  <tbody>\n",
       "    <tr>\n",
       "      <th>22369</th>\n",
       "      <td>1976</td>\n",
       "      <td>South Africa</td>\n",
       "      <td>Cassette</td>\n",
       "      <td>Rock</td>\n",
       "      <td>16</td>\n",
       "    </tr>\n",
       "  </tbody>\n",
       "</table>\n",
       "</div>"
      ],
      "text/plain": [
       "       year       country    format genre  records_count\n",
       "22369  1976  South Africa  Cassette  Rock             16"
      ]
     },
     "execution_count": 21,
     "metadata": {},
     "output_type": "execute_result"
    }
   ],
   "source": [
    "df_year_country_genre.sample()"
   ]
  },
  {
   "cell_type": "code",
   "execution_count": 22,
   "id": "7f563d8a",
   "metadata": {},
   "outputs": [],
   "source": [
    "#exporting to CSV\n",
    "df_year_country_genre.to_csv(\"./Data/format_release.csv\", index = False)"
   ]
  },
  {
   "cell_type": "code",
   "execution_count": null,
   "id": "f362b583",
   "metadata": {},
   "outputs": [],
   "source": [
    " "
   ]
  },
  {
   "cell_type": "code",
   "execution_count": null,
   "id": "83ebf244",
   "metadata": {},
   "outputs": [],
   "source": []
  },
  {
   "cell_type": "code",
   "execution_count": null,
   "id": "2e2fa89c",
   "metadata": {
    "scrolled": true
   },
   "outputs": [],
   "source": []
  },
  {
   "cell_type": "code",
   "execution_count": null,
   "id": "d429a452",
   "metadata": {},
   "outputs": [],
   "source": []
  }
 ],
 "metadata": {
  "kernelspec": {
   "display_name": "ironhack",
   "language": "python",
   "name": "ironhack"
  },
  "language_info": {
   "codemirror_mode": {
    "name": "ipython",
    "version": 3
   },
   "file_extension": ".py",
   "mimetype": "text/x-python",
   "name": "python",
   "nbconvert_exporter": "python",
   "pygments_lexer": "ipython3",
   "version": "3.9.12"
  }
 },
 "nbformat": 4,
 "nbformat_minor": 5
}
