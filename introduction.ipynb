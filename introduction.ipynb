{
 "cells": [
  {
   "cell_type": "code",
   "execution_count": 21,
   "id": "994f5ad6",
   "metadata": {},
   "outputs": [],
   "source": [
    "import pandas as pd\n",
    "import seaborn as sns\n",
    "import matplotlib.pyplot as plt"
   ]
  },
  {
   "cell_type": "code",
   "execution_count": 4,
   "id": "0835da94",
   "metadata": {},
   "outputs": [],
   "source": [
    "df = pd.read_csv('release_data.csv')\n"
   ]
  },
  {
   "cell_type": "code",
   "execution_count": 23,
   "id": "0ff66a03",
   "metadata": {},
   "outputs": [
    {
     "data": {
      "text/html": [
       "<div>\n",
       "<style scoped>\n",
       "    .dataframe tbody tr th:only-of-type {\n",
       "        vertical-align: middle;\n",
       "    }\n",
       "\n",
       "    .dataframe tbody tr th {\n",
       "        vertical-align: top;\n",
       "    }\n",
       "\n",
       "    .dataframe thead th {\n",
       "        text-align: right;\n",
       "    }\n",
       "</style>\n",
       "<table border=\"1\" class=\"dataframe\">\n",
       "  <thead>\n",
       "    <tr style=\"text-align: right;\">\n",
       "      <th></th>\n",
       "      <th>release_id</th>\n",
       "      <th>country</th>\n",
       "      <th>year</th>\n",
       "      <th>genre</th>\n",
       "      <th>format</th>\n",
       "    </tr>\n",
       "  </thead>\n",
       "  <tbody>\n",
       "    <tr>\n",
       "      <th>2860775</th>\n",
       "      <td>2602624</td>\n",
       "      <td>US</td>\n",
       "      <td>1987.0</td>\n",
       "      <td>Folk, World, &amp; Country</td>\n",
       "      <td>Vinyl</td>\n",
       "    </tr>\n",
       "  </tbody>\n",
       "</table>\n",
       "</div>"
      ],
      "text/plain": [
       "         release_id country    year                   genre format\n",
       "2860775     2602624      US  1987.0  Folk, World, & Country  Vinyl"
      ]
     },
     "execution_count": 23,
     "metadata": {},
     "output_type": "execute_result"
    }
   ],
   "source": [
    "df.sample()"
   ]
  },
  {
   "cell_type": "code",
   "execution_count": 14,
   "id": "0450ceb5",
   "metadata": {},
   "outputs": [
    {
     "data": {
      "text/plain": [
       "release_id         0\n",
       "country       326069\n",
       "year               0\n",
       "genre              2\n",
       "format             0\n",
       "dtype: int64"
      ]
     },
     "execution_count": 14,
     "metadata": {},
     "output_type": "execute_result"
    }
   ],
   "source": [
    "df.isna().sum()"
   ]
  },
  {
   "cell_type": "code",
   "execution_count": 8,
   "id": "68f1f173",
   "metadata": {},
   "outputs": [
    {
     "name": "stdout",
     "output_type": "stream",
     "text": [
      "Index(['release_id', 'country', 'year', 'genre', 'format'], dtype='object')\n"
     ]
    }
   ],
   "source": [
    "print(df.columns)"
   ]
  },
  {
   "cell_type": "code",
   "execution_count": 13,
   "id": "154b7f00",
   "metadata": {},
   "outputs": [],
   "source": [
    "#df.dropna(subset =[\"year\"] , inplace = True)"
   ]
  },
  {
   "cell_type": "code",
   "execution_count": 190,
   "id": "8e705712",
   "metadata": {},
   "outputs": [],
   "source": [
    "#df[\"country\"].unique()"
   ]
  },
  {
   "cell_type": "code",
   "execution_count": 17,
   "id": "10e8f5be",
   "metadata": {},
   "outputs": [
    {
     "data": {
      "text/plain": [
       "array([1999., 1998., 1995., 2000., 1996., 1994., 1997., 1993., 1992.,\n",
       "       2003., 1985., 1991., 2004., 2001., 1990., 1988., 1986., 1987.,\n",
       "       1989., 2002., 1982., 1978., 1980., 1981., 1984., 1983., 2005.,\n",
       "       1976., 1977., 1979., 1970., 1971., 1968., 1972., 1974., 2006.,\n",
       "       1975., 2015., 1973., 2010., 2008., 1967., 1969., 2007., 2011.,\n",
       "       2009., 1966., 1965., 1963., 1964., 1956., 1962., 1957., 1959.,\n",
       "       1961., 1958., 1952., 1955., 1960., 1950., 1954., 2012., 1953.,\n",
       "       2020., 2013., 1951., 1949., 1947., 2014., 1928., 1921., 1927.,\n",
       "       2019., 1922., 1923., 1929., 1943., 1925., 1930., 1931., 1940.,\n",
       "       2018., 1946., 1939., 1948., 1941., 1936., 1937., 1935., 1942.,\n",
       "       1938., 1934., 1932., 1944., 1945., 1926., 1917., 1920., 1933.,\n",
       "       1918., 1916., 1903., 1897., 1911., 1910., 2017., 1919., 1913.,\n",
       "       1924., 2016., 1860., 1904., 1899., 1912., 1914., 1905., 1906.,\n",
       "       1898., 1896., 1900., 1901., 1902., 1907., 1915., 1908., 1909.,\n",
       "       1889., 1895., 1878., 1894., 2021., 1893.])"
      ]
     },
     "execution_count": 17,
     "metadata": {},
     "output_type": "execute_result"
    }
   ],
   "source": [
    "df[\"year\"].unique()"
   ]
  },
  {
   "cell_type": "code",
   "execution_count": 29,
   "id": "c49df245",
   "metadata": {},
   "outputs": [
    {
     "data": {
      "text/html": [
       "<div>\n",
       "<style scoped>\n",
       "    .dataframe tbody tr th:only-of-type {\n",
       "        vertical-align: middle;\n",
       "    }\n",
       "\n",
       "    .dataframe tbody tr th {\n",
       "        vertical-align: top;\n",
       "    }\n",
       "\n",
       "    .dataframe thead th {\n",
       "        text-align: right;\n",
       "    }\n",
       "</style>\n",
       "<table border=\"1\" class=\"dataframe\">\n",
       "  <thead>\n",
       "    <tr style=\"text-align: right;\">\n",
       "      <th></th>\n",
       "      <th>release_id</th>\n",
       "      <th>country</th>\n",
       "      <th>year</th>\n",
       "      <th>genre</th>\n",
       "      <th>format</th>\n",
       "    </tr>\n",
       "  </thead>\n",
       "  <tbody>\n",
       "    <tr>\n",
       "      <th>974778</th>\n",
       "      <td>1016982</td>\n",
       "      <td>Russia</td>\n",
       "      <td>1903.0</td>\n",
       "      <td>Classical</td>\n",
       "      <td>Shellac</td>\n",
       "    </tr>\n",
       "    <tr>\n",
       "      <th>978473</th>\n",
       "      <td>1020499</td>\n",
       "      <td>US</td>\n",
       "      <td>1897.0</td>\n",
       "      <td>Jazz</td>\n",
       "      <td>Shellac</td>\n",
       "    </tr>\n",
       "    <tr>\n",
       "      <th>1270400</th>\n",
       "      <td>1289378</td>\n",
       "      <td>France</td>\n",
       "      <td>1860.0</td>\n",
       "      <td>Children's</td>\n",
       "      <td>All Media</td>\n",
       "    </tr>\n",
       "    <tr>\n",
       "      <th>1290169</th>\n",
       "      <td>1307084</td>\n",
       "      <td>US</td>\n",
       "      <td>1904.0</td>\n",
       "      <td>Jazz</td>\n",
       "      <td>Cylinder</td>\n",
       "    </tr>\n",
       "    <tr>\n",
       "      <th>1290194</th>\n",
       "      <td>1307106</td>\n",
       "      <td>US</td>\n",
       "      <td>1899.0</td>\n",
       "      <td>Brass &amp; Military</td>\n",
       "      <td>Cylinder</td>\n",
       "    </tr>\n",
       "  </tbody>\n",
       "</table>\n",
       "</div>"
      ],
      "text/plain": [
       "         release_id country    year             genre     format\n",
       "974778      1016982  Russia  1903.0         Classical    Shellac\n",
       "978473      1020499      US  1897.0              Jazz    Shellac\n",
       "1270400     1289378  France  1860.0        Children's  All Media\n",
       "1290169     1307084      US  1904.0              Jazz   Cylinder\n",
       "1290194     1307106      US  1899.0  Brass & Military   Cylinder"
      ]
     },
     "execution_count": 29,
     "metadata": {},
     "output_type": "execute_result"
    }
   ],
   "source": [
    "df_year = df[(df[\"year\"] < 1910 )]\n",
    "df_year.head()"
   ]
  },
  {
   "cell_type": "code",
   "execution_count": 20,
   "id": "5eb3072e",
   "metadata": {},
   "outputs": [
    {
     "data": {
      "text/plain": [
       "release_id     0\n",
       "country       11\n",
       "year           0\n",
       "genre          0\n",
       "format         0\n",
       "dtype: int64"
      ]
     },
     "execution_count": 20,
     "metadata": {},
     "output_type": "execute_result"
    }
   ],
   "source": [
    "df_year.isna().sum()"
   ]
  },
  {
   "cell_type": "code",
   "execution_count": 32,
   "id": "9045148d",
   "metadata": {},
   "outputs": [],
   "source": [
    "group = df.groupby(by = [\"year\"]), [\"format\"].count(\"format\")\n",
    "\n",
    "#Global_sale_genre = df_vg.groupby(by=['Genre'])['Global_Sales'].sum().reset_index()\n"
   ]
  },
  {
   "cell_type": "code",
   "execution_count": 44,
   "id": "77d50135",
   "metadata": {},
   "outputs": [
    {
     "data": {
      "text/html": [
       "<div>\n",
       "<style scoped>\n",
       "    .dataframe tbody tr th:only-of-type {\n",
       "        vertical-align: middle;\n",
       "    }\n",
       "\n",
       "    .dataframe tbody tr th {\n",
       "        vertical-align: top;\n",
       "    }\n",
       "\n",
       "    .dataframe thead th {\n",
       "        text-align: right;\n",
       "    }\n",
       "</style>\n",
       "<table border=\"1\" class=\"dataframe\">\n",
       "  <thead>\n",
       "    <tr style=\"text-align: right;\">\n",
       "      <th></th>\n",
       "      <th>year</th>\n",
       "      <th>format</th>\n",
       "      <th>country</th>\n",
       "      <th>release_id</th>\n",
       "      <th>genre</th>\n",
       "    </tr>\n",
       "  </thead>\n",
       "  <tbody>\n",
       "    <tr>\n",
       "      <th>0</th>\n",
       "      <td>1860.0</td>\n",
       "      <td>All Media</td>\n",
       "      <td>France</td>\n",
       "      <td>1</td>\n",
       "      <td>1</td>\n",
       "    </tr>\n",
       "    <tr>\n",
       "      <th>1</th>\n",
       "      <td>1878.0</td>\n",
       "      <td>Cylinder</td>\n",
       "      <td>US</td>\n",
       "      <td>2</td>\n",
       "      <td>2</td>\n",
       "    </tr>\n",
       "    <tr>\n",
       "      <th>2</th>\n",
       "      <td>1889.0</td>\n",
       "      <td>Cylinder</td>\n",
       "      <td>US</td>\n",
       "      <td>1</td>\n",
       "      <td>1</td>\n",
       "    </tr>\n",
       "    <tr>\n",
       "      <th>3</th>\n",
       "      <td>1889.0</td>\n",
       "      <td>Shellac</td>\n",
       "      <td>Germany</td>\n",
       "      <td>1</td>\n",
       "      <td>1</td>\n",
       "    </tr>\n",
       "    <tr>\n",
       "      <th>4</th>\n",
       "      <td>1893.0</td>\n",
       "      <td>Cylinder</td>\n",
       "      <td>US</td>\n",
       "      <td>1</td>\n",
       "      <td>1</td>\n",
       "    </tr>\n",
       "    <tr>\n",
       "      <th>...</th>\n",
       "      <td>...</td>\n",
       "      <td>...</td>\n",
       "      <td>...</td>\n",
       "      <td>...</td>\n",
       "      <td>...</td>\n",
       "    </tr>\n",
       "    <tr>\n",
       "      <th>38674</th>\n",
       "      <td>2020.0</td>\n",
       "      <td>Vinyl</td>\n",
       "      <td>Venezuela</td>\n",
       "      <td>4</td>\n",
       "      <td>4</td>\n",
       "    </tr>\n",
       "    <tr>\n",
       "      <th>38675</th>\n",
       "      <td>2020.0</td>\n",
       "      <td>Vinyl</td>\n",
       "      <td>Vietnam</td>\n",
       "      <td>4</td>\n",
       "      <td>4</td>\n",
       "    </tr>\n",
       "    <tr>\n",
       "      <th>38676</th>\n",
       "      <td>2020.0</td>\n",
       "      <td>Vinyl</td>\n",
       "      <td>Yugoslavia</td>\n",
       "      <td>1</td>\n",
       "      <td>1</td>\n",
       "    </tr>\n",
       "    <tr>\n",
       "      <th>38677</th>\n",
       "      <td>2020.0</td>\n",
       "      <td>Wire Recording</td>\n",
       "      <td>US</td>\n",
       "      <td>1</td>\n",
       "      <td>1</td>\n",
       "    </tr>\n",
       "    <tr>\n",
       "      <th>38678</th>\n",
       "      <td>2021.0</td>\n",
       "      <td>CD</td>\n",
       "      <td>Costa Rica</td>\n",
       "      <td>1</td>\n",
       "      <td>1</td>\n",
       "    </tr>\n",
       "  </tbody>\n",
       "</table>\n",
       "<p>38679 rows × 5 columns</p>\n",
       "</div>"
      ],
      "text/plain": [
       "         year          format     country  release_id  genre\n",
       "0      1860.0       All Media      France           1      1\n",
       "1      1878.0        Cylinder          US           2      2\n",
       "2      1889.0        Cylinder          US           1      1\n",
       "3      1889.0         Shellac     Germany           1      1\n",
       "4      1893.0        Cylinder          US           1      1\n",
       "...       ...             ...         ...         ...    ...\n",
       "38674  2020.0           Vinyl   Venezuela           4      4\n",
       "38675  2020.0           Vinyl     Vietnam           4      4\n",
       "38676  2020.0           Vinyl  Yugoslavia           1      1\n",
       "38677  2020.0  Wire Recording          US           1      1\n",
       "38678  2021.0              CD  Costa Rica           1      1\n",
       "\n",
       "[38679 rows x 5 columns]"
      ]
     },
     "execution_count": 44,
     "metadata": {},
     "output_type": "execute_result"
    }
   ],
   "source": [
    "df.groupby(['year', 'format', 'country'], axis=0, as_index=False).count()\n"
   ]
  },
  {
   "cell_type": "code",
   "execution_count": 47,
   "id": "b82ac1c5",
   "metadata": {},
   "outputs": [
    {
     "data": {
      "text/plain": [
       "array(['Vinyl', 'CD', 'Cassette', 'Box Set', 'All Media', 'File',\n",
       "       'Floppy Disk', 'Flexi-disc', 'DAT', 'Minidisc', 'DVD', 'Lathe Cut',\n",
       "       'CDV', 'Hybrid', 'VHS', 'Acetate', 'SACD', 'DVDr', 'Shellac',\n",
       "       '8-Track Cartridge', 'MVD', 'Laserdisc', 'Reel-To-Reel',\n",
       "       'Memory Stick', 'Betamax', 'DCC', 'UMD', 'Microcassette', 'HD DVD',\n",
       "       'Blu-ray', 'Cylinder', 'DualDisc', 'Edison Disc',\n",
       "       '4-Track Cartridge', 'Pathé Disc', 'VHD', 'Blu-ray-R', 'U-matic',\n",
       "       'Film Reel', 'SelectaVision', 'MiniDV', 'Video8', 'Betacam SP',\n",
       "       'PlayTape', 'Video 2000', 'Elcaset', 'Wire Recording',\n",
       "       'NT Cassette', 'Betacam', 'Tefifon', 'RCA Tape Cartridge',\n",
       "       'Pocket Rocker', 'DC-International', 'Cartrivision', 'HD DVD-R'],\n",
       "      dtype=object)"
      ]
     },
     "execution_count": 47,
     "metadata": {},
     "output_type": "execute_result"
    }
   ],
   "source": [
    "df[\"format\"].unique()"
   ]
  },
  {
   "cell_type": "code",
   "execution_count": 179,
   "id": "0d524517",
   "metadata": {},
   "outputs": [],
   "source": [
    "types= ['All Media', 'File',\n",
    "       'Floppy Disk', 'DVD', 'Hybrid', 'VHS', 'DVDr',\n",
    "       '8-Track Cartridge', 'Reel-To-Reel',\n",
    "       'Memory Stick', 'Betamax', 'HD DVD','Cylinder',\n",
    "       '4-Track Cartridge', 'VHD', 'Blu-ray-R', 'U-matic',\n",
    "       'Film Reel', 'SelectaVision', 'MiniDV', 'Video8', 'Betacam SP',\n",
    "       'PlayTape', 'Video 2000', 'Wire Recording','Betacam', 'Tefifon',\n",
    "       'Pocket Rocker', 'Cartrivision', 'HD DVD-R','RCA Tape Cartridge','UMD','Box Set','CDV']"
   ]
  },
  {
   "cell_type": "code",
   "execution_count": null,
   "id": "e6008ba8",
   "metadata": {},
   "outputs": [],
   "source": []
  },
  {
   "cell_type": "code",
   "execution_count": 180,
   "id": "6f635726",
   "metadata": {},
   "outputs": [],
   "source": [
    "new_df = df[df[\"format\"].str.contains('|'.join(types)) == False]\n"
   ]
  },
  {
   "cell_type": "code",
   "execution_count": 181,
   "id": "9d1cb64c",
   "metadata": {},
   "outputs": [
    {
     "data": {
      "text/plain": [
       "array(['Vinyl', 'CD', 'Cassette', 'Flexi-disc', 'DAT', 'Minidisc',\n",
       "       'Lathe Cut', 'Acetate', 'SACD', 'Shellac', 'MVD', 'Laserdisc',\n",
       "       'DCC', 'Microcassette', 'Blu-ray', 'DualDisc', 'Edison Disc',\n",
       "       'Pathé Disc', 'Elcaset', 'NT Cassette', 'DC-International'],\n",
       "      dtype=object)"
      ]
     },
     "execution_count": 181,
     "metadata": {},
     "output_type": "execute_result"
    }
   ],
   "source": [
    "new_df[\"format\"].unique()"
   ]
  },
  {
   "cell_type": "code",
   "execution_count": 105,
   "id": "71ce0855",
   "metadata": {},
   "outputs": [],
   "source": [
    "#acetate = new_df.query('format == \"Acetate\"')\n"
   ]
  },
  {
   "cell_type": "code",
   "execution_count": 110,
   "id": "dcc570c8",
   "metadata": {},
   "outputs": [],
   "source": [
    "#acetate[(acetate[\"year\"] > 1930)]\n"
   ]
  },
  {
   "cell_type": "code",
   "execution_count": 182,
   "id": "bdde168d",
   "metadata": {},
   "outputs": [],
   "source": [
    "new_df = new_df.replace(to_replace=['Lathe Cut', 'Acetate','Edison Disc','Pathé Disc'],\n",
    "           value=\"Vinyl\")"
   ]
  },
  {
   "cell_type": "code",
   "execution_count": 183,
   "id": "6f053c13",
   "metadata": {},
   "outputs": [],
   "source": [
    "new_df = new_df.replace(to_replace=['Minidisc', 'MVD','Laserdisc','DCC','SACD', 'Blu-ray','DualDisc'],\n",
    "           value=\"CD\")"
   ]
  },
  {
   "cell_type": "code",
   "execution_count": 184,
   "id": "bb5dd328",
   "metadata": {},
   "outputs": [],
   "source": [
    "new_df = new_df.replace(to_replace=['DC-International', 'NT Cassette','Elcaset','Microcassette','DAT', 'Blu-ray','DualDisc'],\n",
    "           value='Cassette')"
   ]
  },
  {
   "cell_type": "code",
   "execution_count": 185,
   "id": "391d3ce9",
   "metadata": {},
   "outputs": [
    {
     "data": {
      "text/plain": [
       "array(['Vinyl', 'CD', 'Cassette', 'Flexi-disc', 'Shellac'], dtype=object)"
      ]
     },
     "execution_count": 185,
     "metadata": {},
     "output_type": "execute_result"
    }
   ],
   "source": [
    "new_df[\"format\"].unique()"
   ]
  },
  {
   "cell_type": "code",
   "execution_count": 186,
   "id": "56e3a0b4",
   "metadata": {},
   "outputs": [
    {
     "data": {
      "text/plain": [
       "Vinyl         6489752\n",
       "CD            5440392\n",
       "Cassette      1083279\n",
       "Shellac        190985\n",
       "Flexi-disc      22806\n",
       "Name: format, dtype: int64"
      ]
     },
     "execution_count": 186,
     "metadata": {},
     "output_type": "execute_result"
    }
   ],
   "source": [
    "new_df[\"format\"].value_counts()"
   ]
  },
  {
   "cell_type": "code",
   "execution_count": 189,
   "id": "c078ba40",
   "metadata": {},
   "outputs": [
    {
     "data": {
      "text/plain": [
       "1889.0"
      ]
     },
     "execution_count": 189,
     "metadata": {},
     "output_type": "execute_result"
    }
   ],
   "source": [
    "new_df['year'].min()\n"
   ]
  },
  {
   "cell_type": "code",
   "execution_count": 192,
   "id": "daa69b00",
   "metadata": {},
   "outputs": [
    {
     "data": {
      "text/plain": [
       "14289"
      ]
     },
     "execution_count": 192,
     "metadata": {},
     "output_type": "execute_result"
    }
   ],
   "source": [
    "df_year = new_df[(new_df[\"year\"] < 1920 )]\n",
    "df_year['year'].count()"
   ]
  },
  {
   "cell_type": "code",
   "execution_count": 193,
   "id": "e3e68c47",
   "metadata": {},
   "outputs": [
    {
     "data": {
      "text/plain": [
       "array(['Shellac', 'Vinyl'], dtype=object)"
      ]
     },
     "execution_count": 193,
     "metadata": {},
     "output_type": "execute_result"
    }
   ],
   "source": [
    "df_year['format'].unique()"
   ]
  },
  {
   "cell_type": "code",
   "execution_count": 196,
   "id": "dd8a1de4",
   "metadata": {},
   "outputs": [
    {
     "data": {
      "image/png": "[encoded data removed]",
      "text/plain": [
       "<Figure size 432x288 with 1 Axes>"
      ]
     },
     "metadata": {
      "needs_background": "light"
     },
     "output_type": "display_data"
    }
   ],
   "source": [
    "sns.countplot(x=new_df[\"format\"], palette=\"BuPu\");"
   ]
  },
  {
   "cell_type": "code",
   "execution_count": 197,
   "id": "b2e550df",
   "metadata": {},
   "outputs": [],
   "source": [
    "new_df.to_csv(\"format_release.csv\", index = False)"
   ]
  },
  {
   "cell_type": "code",
   "execution_count": 198,
   "id": "a41c764e",
   "metadata": {},
   "outputs": [
    {
     "data": {
      "text/html": [
       "<div>\n",
       "<style scoped>\n",
       "    .dataframe tbody tr th:only-of-type {\n",
       "        vertical-align: middle;\n",
       "    }\n",
       "\n",
       "    .dataframe tbody tr th {\n",
       "        vertical-align: top;\n",
       "    }\n",
       "\n",
       "    .dataframe thead th {\n",
       "        text-align: right;\n",
       "    }\n",
       "</style>\n",
       "<table border=\"1\" class=\"dataframe\">\n",
       "  <thead>\n",
       "    <tr style=\"text-align: right;\">\n",
       "      <th></th>\n",
       "      <th>release_id</th>\n",
       "      <th>country</th>\n",
       "      <th>year</th>\n",
       "      <th>genre</th>\n",
       "      <th>format</th>\n",
       "    </tr>\n",
       "  </thead>\n",
       "  <tbody>\n",
       "    <tr>\n",
       "      <th>0</th>\n",
       "      <td>1</td>\n",
       "      <td>Sweden</td>\n",
       "      <td>1999.0</td>\n",
       "      <td>Electronic</td>\n",
       "      <td>Vinyl</td>\n",
       "    </tr>\n",
       "    <tr>\n",
       "      <th>1</th>\n",
       "      <td>2</td>\n",
       "      <td>Sweden</td>\n",
       "      <td>1998.0</td>\n",
       "      <td>Electronic</td>\n",
       "      <td>Vinyl</td>\n",
       "    </tr>\n",
       "    <tr>\n",
       "      <th>2</th>\n",
       "      <td>3</td>\n",
       "      <td>US</td>\n",
       "      <td>1999.0</td>\n",
       "      <td>Electronic</td>\n",
       "      <td>CD</td>\n",
       "    </tr>\n",
       "    <tr>\n",
       "      <th>3</th>\n",
       "      <td>4</td>\n",
       "      <td>US</td>\n",
       "      <td>1999.0</td>\n",
       "      <td>Electronic</td>\n",
       "      <td>CD</td>\n",
       "    </tr>\n",
       "    <tr>\n",
       "      <th>4</th>\n",
       "      <td>5</td>\n",
       "      <td>Germany</td>\n",
       "      <td>1995.0</td>\n",
       "      <td>Electronic</td>\n",
       "      <td>CD</td>\n",
       "    </tr>\n",
       "    <tr>\n",
       "      <th>...</th>\n",
       "      <td>...</td>\n",
       "      <td>...</td>\n",
       "      <td>...</td>\n",
       "      <td>...</td>\n",
       "      <td>...</td>\n",
       "    </tr>\n",
       "    <tr>\n",
       "      <th>17372030</th>\n",
       "      <td>15731745</td>\n",
       "      <td>Peru</td>\n",
       "      <td>1980.0</td>\n",
       "      <td>Pop</td>\n",
       "      <td>Vinyl</td>\n",
       "    </tr>\n",
       "    <tr>\n",
       "      <th>17372031</th>\n",
       "      <td>15731748</td>\n",
       "      <td>Mexico</td>\n",
       "      <td>1975.0</td>\n",
       "      <td>Latin</td>\n",
       "      <td>Vinyl</td>\n",
       "    </tr>\n",
       "    <tr>\n",
       "      <th>17372032</th>\n",
       "      <td>15731752</td>\n",
       "      <td>Czech Republic</td>\n",
       "      <td>2020.0</td>\n",
       "      <td>Electronic</td>\n",
       "      <td>Vinyl</td>\n",
       "    </tr>\n",
       "    <tr>\n",
       "      <th>17372033</th>\n",
       "      <td>15731758</td>\n",
       "      <td>Canada</td>\n",
       "      <td>2007.0</td>\n",
       "      <td>Electronic</td>\n",
       "      <td>Vinyl</td>\n",
       "    </tr>\n",
       "    <tr>\n",
       "      <th>17372034</th>\n",
       "      <td>15731760</td>\n",
       "      <td>Colombia</td>\n",
       "      <td>2006.0</td>\n",
       "      <td>Latin</td>\n",
       "      <td>CD</td>\n",
       "    </tr>\n",
       "  </tbody>\n",
       "</table>\n",
       "<p>13227214 rows × 5 columns</p>\n",
       "</div>"
      ],
      "text/plain": [
       "          release_id         country    year       genre format\n",
       "0                  1          Sweden  1999.0  Electronic  Vinyl\n",
       "1                  2          Sweden  1998.0  Electronic  Vinyl\n",
       "2                  3              US  1999.0  Electronic     CD\n",
       "3                  4              US  1999.0  Electronic     CD\n",
       "4                  5         Germany  1995.0  Electronic     CD\n",
       "...              ...             ...     ...         ...    ...\n",
       "17372030    15731745            Peru  1980.0         Pop  Vinyl\n",
       "17372031    15731748          Mexico  1975.0       Latin  Vinyl\n",
       "17372032    15731752  Czech Republic  2020.0  Electronic  Vinyl\n",
       "17372033    15731758          Canada  2007.0  Electronic  Vinyl\n",
       "17372034    15731760        Colombia  2006.0       Latin     CD\n",
       "\n",
       "[13227214 rows x 5 columns]"
      ]
     },
     "execution_count": 198,
     "metadata": {},
     "output_type": "execute_result"
    }
   ],
   "source": [
    "new_df"
   ]
  },
  {
   "cell_type": "code",
   "execution_count": null,
   "id": "231c0f1f",
   "metadata": {},
   "outputs": [],
   "source": []
  }
 ],
 "metadata": {
  "kernelspec": {
   "display_name": "ironhack",
   "language": "python",
   "name": "ironhack"
  },
  "language_info": {
   "codemirror_mode": {
    "name": "ipython",
    "version": 3
   },
   "file_extension": ".py",
   "mimetype": "text/x-python",
   "name": "python",
   "nbconvert_exporter": "python",
   "pygments_lexer": "ipython3",
   "version": "3.9.12"
  }
 },
 "nbformat": 4,
 "nbformat_minor": 5
}
